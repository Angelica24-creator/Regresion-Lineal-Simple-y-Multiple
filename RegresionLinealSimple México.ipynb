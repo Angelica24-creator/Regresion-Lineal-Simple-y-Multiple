{
 "cells": [
  {
   "cell_type": "code",
   "execution_count": null,
   "metadata": {},
   "outputs": [],
   "source": [
    "#Importar librerias\n",
    "\n",
    "import pandas as pd\n",
    "import numpy as np \n",
    "import matplotlib.pyplot as plt \n",
    "import seaborn as sns"
   ]
  },
  {
   "cell_type": "code",
   "execution_count": null,
   "metadata": {},
   "outputs": [],
   "source": [
    "#Cargar archivo csv \n",
    "México=pd.read_csv(\"México sin atipicos.csv\")\n",
    "México.head(5)"
   ]
  },
  {
   "cell_type": "code",
   "execution_count": null,
   "metadata": {},
   "outputs": [],
   "source": [
    "#México= México.drop(['Unnamed: 0'], axis=1)\n",
    "México.head(5)"
   ]
  },
  {
   "cell_type": "code",
   "execution_count": null,
   "metadata": {},
   "outputs": [],
   "source": [
    "#Filtro por objeto\n",
    "filtro1=México[(México[\"room_type\"] == \"Entire home/apt\")]\n",
    "filtro1"
   ]
  },
  {
   "cell_type": "code",
   "execution_count": null,
   "metadata": {},
   "outputs": [],
   "source": [
    "filtro2=México[(México[\"room_type\"] == \"Hotel room\")]\n",
    "filtro2"
   ]
  },
  {
   "cell_type": "code",
   "execution_count": null,
   "metadata": {},
   "outputs": [],
   "source": [
    "filtro3=México[(México[\"room_type\"] == \"Private room\")]\n",
    "filtro3"
   ]
  },
  {
   "cell_type": "code",
   "execution_count": null,
   "metadata": {},
   "outputs": [],
   "source": [
    "filtro4=México[(México[\"room_type\"] == \"Shared room\")]\n",
    "filtro4"
   ]
  },
  {
   "cell_type": "code",
   "execution_count": null,
   "metadata": {},
   "outputs": [],
   "source": [
    "filtro1.to_csv(\"México_Entire.csv\")\n",
    "filtro2.to_csv(\"México_Hotel.csv\")\n",
    "filtro3.to_csv(\"México_Private.csv\")\n",
    "filtro4.to_csv(\"México_Shared.csv\")"
   ]
  },
  {
   "cell_type": "markdown",
   "metadata": {},
   "source": [
    "**Regresión Lineal Simple para la variabler Entire home/apt**\n",
    "**Price vs Host_acceptance_rate**"
   ]
  },
  {
   "cell_type": "code",
   "execution_count": null,
   "metadata": {},
   "outputs": [],
   "source": [
    "Entire=pd.read_csv(\"México_Entire.csv\")\n",
    "Entire= Entire.drop(['Unnamed: 0'], axis=1)\n",
    "Entire.head(1)"
   ]
  },
  {
   "cell_type": "code",
   "execution_count": null,
   "metadata": {},
   "outputs": [],
   "source": [
    "#Imprimimos el scatter plot entre la variable dependiente (price) e independiente (host_acceptance_rate)\n",
    "#Imprimimos el scatter plot entre la variable dependiente (total) e independiente (alcohol)\n",
    "\n",
    "#para observar el comportamiento en su dispersión \n",
    "\n",
    "from turtle import color \n",
    "sns.scatterplot(x='host_acceptance_rate', y='price', color=\"red\", data=Entire)"
   ]
  },
  {
   "cell_type": "code",
   "execution_count": null,
   "metadata": {},
   "outputs": [],
   "source": [
    "#Declaramos las variables dependientes e independientes para la regresión lineal \n",
    "\n",
    "vars_indep= Entire[['host_acceptance_rate']]\n",
    "var_dep=Entire['price']"
   ]
  },
  {
   "cell_type": "code",
   "execution_count": null,
   "metadata": {},
   "outputs": [],
   "source": [
    "#Se define model como la función de regresión lineal \n",
    "\n",
    "from sklearn.linear_model import LinearRegression\n",
    "model= LinearRegression()"
   ]
  },
  {
   "cell_type": "code",
   "execution_count": null,
   "metadata": {},
   "outputs": [],
   "source": [
    "#verificamos la funcion relacionada al modelo \n",
    "\n",
    "type(model)"
   ]
  },
  {
   "cell_type": "code",
   "execution_count": null,
   "metadata": {},
   "outputs": [],
   "source": [
    "#Ajustamos el modelo con las variables antes declaradas matriz mayusculas\n",
    "\n",
    "model.fit(X=vars_indep, y=var_dep)"
   ]
  },
  {
   "cell_type": "code",
   "execution_count": null,
   "metadata": {},
   "outputs": [],
   "source": [
    "#Verificamos los coeficientes obtenidos para el modelo ajustado\n",
    "\n",
    "model.__dict__"
   ]
  },
  {
   "cell_type": "markdown",
   "metadata": {},
   "source": [
    "**Modelo matemático: y:312.08408341x + 937.2304317522714**"
   ]
  },
  {
   "cell_type": "code",
   "execution_count": null,
   "metadata": {},
   "outputs": [],
   "source": [
    "#Evaluamos la eficiencia del modelo obtenido por medio del coeficiente R Determinacion \n",
    "\n",
    "model.score(vars_indep,var_dep)"
   ]
  },
  {
   "cell_type": "code",
   "execution_count": null,
   "metadata": {},
   "outputs": [],
   "source": [
    "#Predecimos los valores de preio a partir de la variable 'host_aceepted_rate'\n",
    "\n",
    "y_pred=model.predict(X=Entire[['host_acceptance_rate']])\n",
    "y_pred"
   ]
  },
  {
   "cell_type": "code",
   "execution_count": null,
   "metadata": {},
   "outputs": [],
   "source": [
    "Entire.info()"
   ]
  },
  {
   "cell_type": "code",
   "execution_count": null,
   "metadata": {},
   "outputs": [],
   "source": [
    "#Insertamos la columna de predicciones en el Dataframe \n",
    "\n",
    "Entire.insert(10,'Predicciones', y_pred)\n",
    "Entire"
   ]
  },
  {
   "cell_type": "code",
   "execution_count": null,
   "metadata": {},
   "outputs": [],
   "source": [
    "#Visualizamos la gráfica comparativa entre el precio real y el precio predecido \n",
    "\n",
    "sns.scatterplot(x='host_acceptance_rate', y='price', color='blue', data=Entire)\n",
    "sns.scatterplot(x='host_acceptance_rate', y='Prediccion', color='red', data=Entire)"
   ]
  },
  {
   "cell_type": "code",
   "execution_count": null,
   "metadata": {},
   "outputs": [],
   "source": [
    "#Corroboramos cual es el coeficiente en Determinación de nuestro modelo\n",
    "coef_deter=model.score(X=vars_indep, y=var_dep)\n",
    "coef_deter"
   ]
  },
  {
   "cell_type": "code",
   "execution_count": null,
   "metadata": {},
   "outputs": [],
   "source": [
    "#Corroboramos cual es el coeficiente de Correlación de nuestro modelo \n",
    "coef_correl=np.sqrt(coef_deter)\n",
    "coef_correl"
   ]
  },
  {
   "cell_type": "code",
   "execution_count": null,
   "metadata": {},
   "outputs": [],
   "source": [
    "Entire.info()"
   ]
  },
  {
   "cell_type": "code",
   "execution_count": null,
   "metadata": {},
   "outputs": [],
   "source": [
    "Entire = Entire.drop(Entire.loc[:, 'last_scraped':'instant_bookable'].columns, axis=1)\n",
    "Entire"
   ]
  },
  {
   "cell_type": "code",
   "execution_count": null,
   "metadata": {},
   "outputs": [],
   "source": [
    "#Graficamos todas las dispersiones entre todas las variables \n",
    "\n",
    "sns.pairplot(Entire)"
   ]
  },
  {
   "cell_type": "code",
   "execution_count": null,
   "metadata": {},
   "outputs": [],
   "source": [
    "#Encontramos todas las correlaciones entre las variables \n",
    "\n",
    "Corr_Factors=Entire.corr()\n",
    "Corr_Factors"
   ]
  },
  {
   "cell_type": "code",
   "execution_count": null,
   "metadata": {},
   "outputs": [],
   "source": [
    "#Encontramos el valor absoluto de todas las correlaciones entre las variables \n",
    "Corr_Factors1=abs(Corr_Factors)\n",
    "Corr_Factors1"
   ]
  },
  {
   "cell_type": "code",
   "execution_count": null,
   "metadata": {},
   "outputs": [],
   "source": [
    "#Ajustamos el mapa de calor de los coeficientes de correlación \n",
    "Heat_Map=sns.heatmap(Corr_Factors1, cmap='Reds')\n",
    "Heat_Map"
   ]
  },
  {
   "cell_type": "markdown",
   "metadata": {},
   "source": [
    "**Price vs Host_is_superhost**"
   ]
  },
  {
   "cell_type": "code",
   "execution_count": null,
   "metadata": {},
   "outputs": [],
   "source": [
    "Entire1=pd.read_csv('México_Entire.csv')"
   ]
  },
  {
   "cell_type": "code",
   "execution_count": null,
   "metadata": {},
   "outputs": [],
   "source": [
    "Entire1[\"host_is_superhost\"] = Entire1[\"host_is_superhost\"].replace({\"t\": 1, \"f\": 0})\n",
    "Entire1[\"host_is_superhost\"] = Entire1[\"host_is_superhost\"].replace({\"SIN INFORMACION\": 0})"
   ]
  },
  {
   "cell_type": "code",
   "execution_count": null,
   "metadata": {},
   "outputs": [],
   "source": [
    "#Imprimimos el scatter plot entre la variable dependiente (price) e independiente (host_is_superhost)\n",
    "\n",
    "from turtle import color \n",
    "\n",
    "sns.scatterplot(x='host_is_superhost', y='price', color=\"red\", data=Entire1)"
   ]
  },
  {
   "cell_type": "code",
   "execution_count": null,
   "metadata": {},
   "outputs": [],
   "source": [
    "vars_indep= Entire1[['host_is_superhost']]\n",
    "var_dep=Entire1['price']"
   ]
  },
  {
   "cell_type": "code",
   "execution_count": null,
   "metadata": {},
   "outputs": [],
   "source": [
    "from sklearn.linear_model import LinearRegression\n",
    "model= LinearRegression()\n",
    "type(model)\n",
    "model.fit(X=vars_indep, y=var_dep)\n",
    "model.__dict__"
   ]
  },
  {
   "cell_type": "markdown",
   "metadata": {},
   "source": [
    "**Modelo matemático: y:14.46712315x + 1241.074614082263**"
   ]
  },
  {
   "cell_type": "code",
   "execution_count": null,
   "metadata": {},
   "outputs": [],
   "source": [
    "#Evaluamos la eficiencia del modelo obtenido por medio del coeficiente R Determinacion \n",
    "\n",
    "model.score(vars_indep,var_dep)"
   ]
  },
  {
   "cell_type": "code",
   "execution_count": null,
   "metadata": {},
   "outputs": [],
   "source": [
    "y_pred=model.predict(X=Entire1[['host_is_superhost']])\n",
    "y_pred"
   ]
  },
  {
   "cell_type": "code",
   "execution_count": null,
   "metadata": {},
   "outputs": [],
   "source": [
    "Entire1 = Entire1.drop(['Unnamed: 0'], axis=1)\n",
    "Entire1.head(1)"
   ]
  },
  {
   "cell_type": "code",
   "execution_count": null,
   "metadata": {},
   "outputs": [],
   "source": [
    "Entire1.info()"
   ]
  },
  {
   "cell_type": "code",
   "execution_count": null,
   "metadata": {},
   "outputs": [],
   "source": [
    "#Insertamos la columna de predicciones en el Dataframe \n",
    "\n",
    "Entire1.insert(10,'Predicciones', y_pred)\n",
    "Entire1"
   ]
  },
  {
   "cell_type": "code",
   "execution_count": null,
   "metadata": {},
   "outputs": [],
   "source": [
    "#Visualizamos la gráfica comparativa entre el total real y el total predecido \n",
    "\n",
    "sns.scatterplot(x='host_is_superhost', y='price', color='blue', data=Entire1)\n",
    "sns.scatterplot(x='host_is_superhost', y='Predicciones', color='red', data=Entire1)"
   ]
  },
  {
   "cell_type": "code",
   "execution_count": null,
   "metadata": {},
   "outputs": [],
   "source": [
    "#Corroboramos cual es el coeficiente en Determinación de nuestro modelo\n",
    "coef_Deter=model.score(X=vars_indep, y=var_dep)\n",
    "coef_Deter"
   ]
  },
  {
   "cell_type": "code",
   "execution_count": null,
   "metadata": {},
   "outputs": [],
   "source": [
    "#Corroboramos cual es el coeficiente de Correlación de nuestro modelo \n",
    "coef_Correl=np.sqrt(coef_Deter)\n",
    "coef_Correl"
   ]
  },
  {
   "cell_type": "code",
   "execution_count": null,
   "metadata": {},
   "outputs": [],
   "source": [
    "#Eliminamos la columna tipo string\n",
    "\n",
    "Entire1 = Entire1.drop(Entire1.loc[:, 'last_scraped':'host_response_time'].columns, axis=1)\n",
    "Entire1 = Entire1.drop(Entire1.loc[:, 'host_verifications':'instant_bookable'].columns, axis=1)\n",
    "Entire1.info()"
   ]
  },
  {
   "cell_type": "code",
   "execution_count": null,
   "metadata": {},
   "outputs": [],
   "source": [
    "#Graficamos todas las dispersiones entre todas las variables \n",
    "\n",
    "sns.pairplot(Entire1)"
   ]
  },
  {
   "cell_type": "code",
   "execution_count": null,
   "metadata": {},
   "outputs": [],
   "source": [
    "#Encontramos todas las correlaciones entre las variables \n",
    "\n",
    "Corr_Factors=Entire1.corr()\n",
    "Corr_Factors"
   ]
  },
  {
   "cell_type": "code",
   "execution_count": null,
   "metadata": {},
   "outputs": [],
   "source": [
    "#Encontramos el valor absoluto de todas las correlaciones entre las variables \n",
    "Corr_Factors1=abs(Corr_Factors)\n",
    "Corr_Factors1"
   ]
  },
  {
   "cell_type": "code",
   "execution_count": null,
   "metadata": {},
   "outputs": [],
   "source": [
    "#Ajustamos el mapa de calor de los coeficientes de correlación \n",
    "Heat_Map=sns.heatmap(Corr_Factors1, cmap='Reds')\n",
    "Heat_Map"
   ]
  },
  {
   "cell_type": "markdown",
   "metadata": {},
   "source": [
    "**accommodates vs bathrooms**"
   ]
  },
  {
   "cell_type": "code",
   "execution_count": null,
   "metadata": {},
   "outputs": [],
   "source": [
    "Entire2=pd.read_csv('México_Entire.csv')"
   ]
  },
  {
   "cell_type": "code",
   "execution_count": null,
   "metadata": {},
   "outputs": [],
   "source": [
    "#Imprimimos el scatter plot entre la variable dependiente (accomodates) e independiente (bathrooms)\n",
    "\n",
    "from turtle import color \n",
    "\n",
    "sns.scatterplot(x='bathrooms', y='accommodates', color=\"red\", data=Entire2)"
   ]
  },
  {
   "cell_type": "code",
   "execution_count": null,
   "metadata": {},
   "outputs": [],
   "source": [
    "vars_indep= Entire2[['bathrooms']]\n",
    "var_dep=Entire2['accommodates']"
   ]
  },
  {
   "cell_type": "code",
   "execution_count": null,
   "metadata": {},
   "outputs": [],
   "source": [
    "from sklearn.linear_model import LinearRegression\n",
    "model= LinearRegression()\n",
    "type(model)\n",
    "model.fit(X=vars_indep, y=var_dep)\n",
    "model.__dict__"
   ]
  },
  {
   "cell_type": "code",
   "execution_count": null,
   "metadata": {},
   "outputs": [],
   "source": [
    "#Evaluamos la eficiencia del modelo obtenido por medio del coeficiente R Determinacion \n",
    "\n",
    "model.score(vars_indep,var_dep)"
   ]
  },
  {
   "cell_type": "code",
   "execution_count": null,
   "metadata": {},
   "outputs": [],
   "source": [
    "y_pred=model.predict(X=Entire2[['bathrooms']])\n",
    "y_pred"
   ]
  },
  {
   "cell_type": "code",
   "execution_count": null,
   "metadata": {},
   "outputs": [],
   "source": [
    "Entire2 = Entire2.drop(['Unnamed: 0'], axis=1)\n",
    "Entire2.info()"
   ]
  },
  {
   "cell_type": "code",
   "execution_count": null,
   "metadata": {},
   "outputs": [],
   "source": [
    "Entire2.insert(5,'Predicciones', y_pred)\n",
    "Entire2"
   ]
  },
  {
   "cell_type": "code",
   "execution_count": null,
   "metadata": {},
   "outputs": [],
   "source": [
    "#Visualizamos la gráfica comparativa entre el total real y el total predecido \n",
    "\n",
    "sns.scatterplot(x='bathrooms', y='accommodates', color='blue', data=Entire2)\n",
    "sns.scatterplot(x='bathrooms', y='Predicciones', color='red', data=Entire2)"
   ]
  },
  {
   "cell_type": "code",
   "execution_count": null,
   "metadata": {},
   "outputs": [],
   "source": [
    "#Corroboramos cual es el coeficiente en Determinación de nuestro modelo\n",
    "coef_Deter=model.score(X=vars_indep, y=var_dep)\n",
    "coef_Deter"
   ]
  },
  {
   "cell_type": "code",
   "execution_count": null,
   "metadata": {},
   "outputs": [],
   "source": [
    "#Corroboramos cual es el coeficiente de Correlación de nuestro modelo \n",
    "coef_Correl=np.sqrt(coef_Deter)\n",
    "coef_Correl"
   ]
  },
  {
   "cell_type": "code",
   "execution_count": null,
   "metadata": {},
   "outputs": [],
   "source": [
    "Entire2 = Entire2.drop(Entire2.loc[:, 'last_scraped':'instant_bookable'].columns, axis=1)\n",
    "Entire2.info()"
   ]
  },
  {
   "cell_type": "code",
   "execution_count": null,
   "metadata": {},
   "outputs": [],
   "source": [
    "#Graficamos todas las dispersiones entre todas las variables \n",
    "\n",
    "sns.pairplot(Entire2)"
   ]
  },
  {
   "cell_type": "code",
   "execution_count": null,
   "metadata": {},
   "outputs": [],
   "source": [
    "Corr_Factors=Entire2.corr()\n",
    "Corr_Factors"
   ]
  },
  {
   "cell_type": "code",
   "execution_count": null,
   "metadata": {},
   "outputs": [],
   "source": [
    "#Encontramos el valor absoluto de todas las correlaciones entre las variables \n",
    "Corr_Factors1=abs(Corr_Factors)\n",
    "Corr_Factors1"
   ]
  },
  {
   "cell_type": "code",
   "execution_count": null,
   "metadata": {},
   "outputs": [],
   "source": [
    "#Ajustamos el mapa de calor de los coeficientes de correlación \n",
    "Heat_Map=sns.heatmap(Corr_Factors1, cmap='Reds')\n",
    "Heat_Map"
   ]
  },
  {
   "cell_type": "markdown",
   "metadata": {},
   "source": [
    "**“price vs review_scores_cleanliness”**"
   ]
  },
  {
   "cell_type": "code",
   "execution_count": null,
   "metadata": {},
   "outputs": [],
   "source": [
    "Entire3=pd.read_csv('México_Entire.csv')"
   ]
  },
  {
   "cell_type": "code",
   "execution_count": null,
   "metadata": {},
   "outputs": [],
   "source": [
    "#Imprimimos el scatter plot entre la variable dependiente (price) e independiente (review_scores_cleanliness)\n",
    "\n",
    "from turtle import color \n",
    "\n",
    "sns.scatterplot(x='review_scores_cleanliness', y='price', color=\"red\", data=Entire3)"
   ]
  },
  {
   "cell_type": "code",
   "execution_count": null,
   "metadata": {},
   "outputs": [],
   "source": [
    "vars_indep= Entire3[['review_scores_cleanliness']]\n",
    "var_dep=Entire3['price']"
   ]
  },
  {
   "cell_type": "code",
   "execution_count": null,
   "metadata": {},
   "outputs": [],
   "source": [
    "from sklearn.linear_model import LinearRegression\n",
    "model= LinearRegression()\n",
    "type(model)\n",
    "model.fit(X=vars_indep, y=var_dep)\n",
    "model.__dict__"
   ]
  },
  {
   "cell_type": "code",
   "execution_count": null,
   "metadata": {},
   "outputs": [],
   "source": [
    "#Evaluamos la eficiencia del modelo obtenido por medio del coeficiente R Determinacion \n",
    "\n",
    "model.score(vars_indep,var_dep)"
   ]
  },
  {
   "cell_type": "code",
   "execution_count": null,
   "metadata": {},
   "outputs": [],
   "source": [
    "y_pred=model.predict(X=Entire3[['review_scores_cleanliness']])\n",
    "y_pred"
   ]
  },
  {
   "cell_type": "code",
   "execution_count": null,
   "metadata": {},
   "outputs": [],
   "source": [
    "Entire3 = Entire3.drop(['Unnamed: 0'], axis=1)"
   ]
  },
  {
   "cell_type": "code",
   "execution_count": null,
   "metadata": {},
   "outputs": [],
   "source": [
    "Entire3.info()"
   ]
  },
  {
   "cell_type": "code",
   "execution_count": null,
   "metadata": {},
   "outputs": [],
   "source": [
    "#Insertamos la columna de predicciones en el Dataframe \n",
    "\n",
    "Entire3.insert(9,'Predicciones', y_pred)\n",
    "Entire3"
   ]
  },
  {
   "cell_type": "code",
   "execution_count": null,
   "metadata": {},
   "outputs": [],
   "source": [
    "#Visualizamos la gráfica comparativa entre el total real y el total predecido \n",
    "\n",
    "sns.scatterplot(x='review_scores_cleanliness', y='price', color='blue', data=Entire3)\n",
    "sns.scatterplot(x='review_scores_cleanliness', y='Predicciones', color='red', data=Entire3)"
   ]
  },
  {
   "cell_type": "code",
   "execution_count": null,
   "metadata": {},
   "outputs": [],
   "source": [
    "#Corroboramos cual es el coeficiente en Determinación de nuestro modelo\n",
    "coef_Deter=model.score(X=vars_indep, y=var_dep)\n",
    "coef_Deter"
   ]
  },
  {
   "cell_type": "code",
   "execution_count": null,
   "metadata": {},
   "outputs": [],
   "source": [
    "#Corroboramos cual es el coeficiente de Correlación de nuestro modelo \n",
    "coef_Correl=np.sqrt(coef_Deter)\n",
    "coef_Correl"
   ]
  },
  {
   "cell_type": "code",
   "execution_count": null,
   "metadata": {},
   "outputs": [],
   "source": [
    "#Eliminamos la columna tipo string\n",
    "\n",
    "Entire3 = Entire3.drop(Entire3.loc[:, 'last_scraped':'instant_bookable'].columns, axis=1)\n",
    "Entire3.info()"
   ]
  },
  {
   "cell_type": "code",
   "execution_count": null,
   "metadata": {},
   "outputs": [],
   "source": [
    "#Graficamos todas las dispersiones entre todas las variables \n",
    "\n",
    "sns.pairplot(Entire3)"
   ]
  },
  {
   "cell_type": "code",
   "execution_count": null,
   "metadata": {},
   "outputs": [],
   "source": [
    "#Encontramos todas las correlaciones entre las variables \n",
    "\n",
    "Corr_Factors=Entire3.corr()\n",
    "Corr_Factors"
   ]
  },
  {
   "cell_type": "code",
   "execution_count": null,
   "metadata": {},
   "outputs": [],
   "source": [
    "#Encontramos el valor absoluto de todas las correlaciones entre las variables \n",
    "Corr_Factors1=abs(Corr_Factors)\n",
    "Corr_Factors1"
   ]
  },
  {
   "cell_type": "code",
   "execution_count": null,
   "metadata": {},
   "outputs": [],
   "source": [
    "#Ajustamos el mapa de calor de los coeficientes de correlación \n",
    "Heat_Map=sns.heatmap(Corr_Factors1, cmap='Reds')\n",
    "Heat_Map"
   ]
  },
  {
   "cell_type": "markdown",
   "metadata": {},
   "source": [
    "**price vs host_identity_verified**"
   ]
  },
  {
   "cell_type": "code",
   "execution_count": null,
   "metadata": {},
   "outputs": [],
   "source": [
    "Entire4=pd.read_csv('México_Entire.csv')"
   ]
  },
  {
   "cell_type": "code",
   "execution_count": null,
   "metadata": {},
   "outputs": [],
   "source": [
    "Entire4[\"host_identity_verified\"] = Entire4[\"host_identity_verified\"].replace({\"t\": 1, \"f\": 0})"
   ]
  },
  {
   "cell_type": "code",
   "execution_count": null,
   "metadata": {},
   "outputs": [],
   "source": [
    "#Imprimimos el scatter plot entre la variable dependiente (price) e independiente (host_identity_verified)\n",
    "\n",
    "from turtle import color \n",
    "\n",
    "sns.scatterplot(x='host_identity_verified', y='price', color=\"red\", data=Entire4)"
   ]
  },
  {
   "cell_type": "code",
   "execution_count": null,
   "metadata": {},
   "outputs": [],
   "source": [
    "vars_indep= Entire4[['host_identity_verified']]\n",
    "var_dep=Entire4['price']"
   ]
  },
  {
   "cell_type": "code",
   "execution_count": null,
   "metadata": {},
   "outputs": [],
   "source": [
    "from sklearn.linear_model import LinearRegression\n",
    "model= LinearRegression()\n",
    "type(model)\n",
    "model.fit(X=vars_indep, y=var_dep)\n",
    "model.__dict__"
   ]
  },
  {
   "cell_type": "code",
   "execution_count": null,
   "metadata": {},
   "outputs": [],
   "source": [
    "model.score(vars_indep,var_dep)"
   ]
  },
  {
   "cell_type": "code",
   "execution_count": null,
   "metadata": {},
   "outputs": [],
   "source": [
    "y_pred=model.predict(X=Entire4[['host_identity_verified']])\n",
    "y_pred"
   ]
  },
  {
   "cell_type": "code",
   "execution_count": null,
   "metadata": {},
   "outputs": [],
   "source": [
    "Entire4 = Entire4.drop(['Unnamed: 0'], axis=1)"
   ]
  },
  {
   "cell_type": "code",
   "execution_count": null,
   "metadata": {},
   "outputs": [],
   "source": [
    "Entire4.insert(9,'Predicciones', y_pred)\n",
    "Entire4"
   ]
  },
  {
   "cell_type": "code",
   "execution_count": null,
   "metadata": {},
   "outputs": [],
   "source": [
    "Entire4.info()"
   ]
  },
  {
   "cell_type": "code",
   "execution_count": null,
   "metadata": {},
   "outputs": [],
   "source": [
    "#Visualizamos la gráfica comparativa entre el total real y el total predecido \n",
    "\n",
    "sns.scatterplot(x='host_identity_verified', y='price', color='blue', data=Entire4)\n",
    "sns.scatterplot(x='host_identity_verified', y='Predicciones', color='red', data=Entire4)"
   ]
  },
  {
   "cell_type": "code",
   "execution_count": null,
   "metadata": {},
   "outputs": [],
   "source": [
    "#Corroboramos cual es el coeficiente en Determinación de nuestro modelo\n",
    "coef_Deter=model.score(X=vars_indep, y=var_dep)\n",
    "coef_Deter"
   ]
  },
  {
   "cell_type": "code",
   "execution_count": null,
   "metadata": {},
   "outputs": [],
   "source": [
    "#Corroboramos cual es el coeficiente de Correlación de nuestro modelo \n",
    "coef_Correl=np.sqrt(coef_Deter)\n",
    "coef_Correl"
   ]
  },
  {
   "cell_type": "code",
   "execution_count": null,
   "metadata": {},
   "outputs": [],
   "source": [
    "#Eliminamos la columna tipo string\n",
    "\n",
    "Entire4 = Entire4.drop(Entire4.loc[:, 'last_scraped':'host_has_profile_pic'].columns, axis=1)\n",
    "Entire4 = Entire4.drop(Entire4.loc[:, 'neighbourhood':'instant_bookable'].columns, axis=1)\n",
    "Entire4.info()"
   ]
  },
  {
   "cell_type": "code",
   "execution_count": null,
   "metadata": {},
   "outputs": [],
   "source": [
    "#Graficamos todas las dispersiones entre todas las variables \n",
    "\n",
    "sns.pairplot(Entire4)"
   ]
  },
  {
   "cell_type": "code",
   "execution_count": null,
   "metadata": {},
   "outputs": [],
   "source": [
    "#Encontramos todas las correlaciones entre las variables \n",
    "\n",
    "Corr_Factors=Entire4.corr()\n",
    "Corr_Factors"
   ]
  },
  {
   "cell_type": "code",
   "execution_count": null,
   "metadata": {},
   "outputs": [],
   "source": [
    "#Encontramos el valor absoluto de todas las correlaciones entre las variables \n",
    "Corr_Factors1=abs(Corr_Factors)\n",
    "Corr_Factors1"
   ]
  },
  {
   "cell_type": "code",
   "execution_count": null,
   "metadata": {},
   "outputs": [],
   "source": [
    "#Ajustamos el mapa de calor de los coeficientes de correlación \n",
    "Heat_Map=sns.heatmap(Corr_Factors1, cmap='Reds')\n",
    "Heat_Map"
   ]
  },
  {
   "cell_type": "markdown",
   "metadata": {},
   "source": [
    "**price vs instant_bookable**"
   ]
  },
  {
   "cell_type": "code",
   "execution_count": null,
   "metadata": {},
   "outputs": [],
   "source": [
    "Entire5=pd.read_csv('México_Entire.csv')"
   ]
  },
  {
   "cell_type": "code",
   "execution_count": null,
   "metadata": {},
   "outputs": [],
   "source": [
    "Entire5[\"instant_bookable\"] = Entire5[\"instant_bookable\"].replace({\"t\": 1, \"f\": 0})"
   ]
  },
  {
   "cell_type": "code",
   "execution_count": null,
   "metadata": {},
   "outputs": [],
   "source": [
    "#Imprimimos el scatter plot entre la variable dependiente (price) e independiente (instant_bookable)\n",
    "\n",
    "from turtle import color \n",
    "\n",
    "sns.scatterplot(x='instant_bookable', y='price', color=\"red\", data=Entire5)"
   ]
  },
  {
   "cell_type": "code",
   "execution_count": null,
   "metadata": {},
   "outputs": [],
   "source": [
    "vars_indep= Entire5[['instant_bookable']]\n",
    "var_dep=Entire5['price']"
   ]
  },
  {
   "cell_type": "code",
   "execution_count": null,
   "metadata": {},
   "outputs": [],
   "source": [
    "from sklearn.linear_model import LinearRegression\n",
    "model= LinearRegression()\n",
    "type(model)\n",
    "model.fit(X=vars_indep, y=var_dep)\n",
    "model.__dict__"
   ]
  },
  {
   "cell_type": "code",
   "execution_count": null,
   "metadata": {},
   "outputs": [],
   "source": [
    "model.score(vars_indep,var_dep)"
   ]
  },
  {
   "cell_type": "code",
   "execution_count": null,
   "metadata": {},
   "outputs": [],
   "source": [
    "y_pred=model.predict(X=Entire5[['instant_bookable']])\n",
    "y_pred"
   ]
  },
  {
   "cell_type": "code",
   "execution_count": null,
   "metadata": {},
   "outputs": [],
   "source": [
    "Entire5 = Entire5.drop(['Unnamed: 0'], axis=1)"
   ]
  },
  {
   "cell_type": "code",
   "execution_count": null,
   "metadata": {},
   "outputs": [],
   "source": [
    "#Insertamos la columna de predicciones en el Dataframe \n",
    "\n",
    "Entire5.insert(9,'Predicciones', y_pred)\n",
    "Entire5"
   ]
  },
  {
   "cell_type": "code",
   "execution_count": null,
   "metadata": {},
   "outputs": [],
   "source": [
    "#Visualizamos la gráfica comparativa entre el total real y el total predecido \n",
    "\n",
    "sns.scatterplot(x='instant_bookable', y='price', color='blue', data=Entire5)\n",
    "sns.scatterplot(x='instant_bookable', y='Predicciones', color='red', data=Entire5)"
   ]
  },
  {
   "cell_type": "code",
   "execution_count": null,
   "metadata": {},
   "outputs": [],
   "source": [
    "#Corroboramos cual es el coeficiente en Determinación de nuestro modelo\n",
    "coef_Deter=model.score(X=vars_indep, y=var_dep)\n",
    "coef_Deter"
   ]
  },
  {
   "cell_type": "code",
   "execution_count": null,
   "metadata": {},
   "outputs": [],
   "source": [
    "#Corroboramos cual es el coeficiente de Correlación de nuestro modelo \n",
    "coef_Correl=np.sqrt(coef_Deter)\n",
    "coef_Correl"
   ]
  },
  {
   "cell_type": "code",
   "execution_count": null,
   "metadata": {},
   "outputs": [],
   "source": [
    "Entire5 = Entire5.drop(Entire5.loc[:, 'last_scraped':'license'].columns, axis=1)\n",
    "Entire5.info()"
   ]
  },
  {
   "cell_type": "code",
   "execution_count": null,
   "metadata": {},
   "outputs": [],
   "source": [
    "sns.pairplot(Entire5)"
   ]
  },
  {
   "cell_type": "code",
   "execution_count": null,
   "metadata": {},
   "outputs": [],
   "source": [
    "#Encontramos todas las correlaciones entre las variables \n",
    "\n",
    "Corr_Factors=Entire5.corr()\n",
    "Corr_Factors"
   ]
  },
  {
   "cell_type": "code",
   "execution_count": null,
   "metadata": {},
   "outputs": [],
   "source": [
    "Corr_Factors1=abs(Corr_Factors)\n",
    "Corr_Factors1"
   ]
  },
  {
   "cell_type": "code",
   "execution_count": null,
   "metadata": {},
   "outputs": [],
   "source": [
    "Heat_Map=sns.heatmap(Corr_Factors1, cmap='Reds')\n",
    "Heat_Map"
   ]
  },
  {
   "cell_type": "markdown",
   "metadata": {},
   "source": [
    "**Price vs property_type**"
   ]
  },
  {
   "cell_type": "code",
   "execution_count": null,
   "metadata": {},
   "outputs": [],
   "source": [
    "Entire6=pd.read_csv('México_Entire.csv')"
   ]
  },
  {
   "cell_type": "code",
   "execution_count": null,
   "metadata": {},
   "outputs": [],
   "source": [
    "Entire6[\"property_type\"] = Entire6[\"property_type\"].replace({\"Boat\": 1, \"Campsite\": 2, \"Casa particular\": 3, \"Castle\":4, \"Dome\":5, \"Earthen home\":6, \"Entire bungalow\":7, \"Entire cabin\":8, \"Entire chalet\":9, \"Entire condo\":10, \"Entire cottage\":11, \"Entire guest suite\":12, \"Entire guesthouse\":13, \"Entire home\": 14, \"Entire home/apt\":15, \"Entire hostel\":16, \"Entire in-law\":17, \"Entire loft\":18, \"Entire place\":19, \"Entire rental unit\":20, \"Entire serviced apartment\":21, \"Entire townhouse\":22, \"Entire vacation home\":23, \"Entire villa\":24, \"Farm stay\": 25, \"Holiday park\":26, \"Hut\":27, \"Room in aparthotel\":28, \"Room in hotel\":29, \"Shipping container\":30,\"Tent\":31, \"Tiny home\":32, \"Tower\":33})"
   ]
  },
  {
   "cell_type": "code",
   "execution_count": null,
   "metadata": {},
   "outputs": [],
   "source": [
    "#Imprimimos el scatter plot entre la variable dependiente (price) e independiente (property_type)\n",
    "\n",
    "from turtle import color \n",
    "\n",
    "sns.scatterplot(x='property_type', y='price', color=\"red\", data=Entire6)"
   ]
  },
  {
   "cell_type": "code",
   "execution_count": null,
   "metadata": {},
   "outputs": [],
   "source": [
    "vars_indep= Entire6[['property_type']]\n",
    "var_dep=Entire6['price']"
   ]
  },
  {
   "cell_type": "code",
   "execution_count": null,
   "metadata": {},
   "outputs": [],
   "source": [
    "from sklearn.linear_model import LinearRegression\n",
    "model= LinearRegression()\n",
    "type(model)\n",
    "model.fit(X=vars_indep, y=var_dep)\n",
    "model.__dict__"
   ]
  },
  {
   "cell_type": "code",
   "execution_count": null,
   "metadata": {},
   "outputs": [],
   "source": [
    "model.score(vars_indep,var_dep)"
   ]
  },
  {
   "cell_type": "code",
   "execution_count": null,
   "metadata": {},
   "outputs": [],
   "source": [
    "y_pred=model.predict(X=Entire6[['property_type']])\n",
    "y_pred"
   ]
  },
  {
   "cell_type": "code",
   "execution_count": null,
   "metadata": {},
   "outputs": [],
   "source": [
    "Entire6 = Entire6.drop(['Unnamed: 0'], axis=1)"
   ]
  },
  {
   "cell_type": "code",
   "execution_count": null,
   "metadata": {},
   "outputs": [],
   "source": [
    "Entire6.insert(9,'Predicciones', y_pred)\n",
    "Entire6"
   ]
  },
  {
   "cell_type": "code",
   "execution_count": null,
   "metadata": {},
   "outputs": [],
   "source": [
    "sns.scatterplot(x='property_type', y='price', color='blue', data=Entire6)\n",
    "sns.scatterplot(x='property_type', y='Predicciones', color='red', data=Entire6)"
   ]
  },
  {
   "cell_type": "code",
   "execution_count": null,
   "metadata": {},
   "outputs": [],
   "source": [
    "coef_Deter=model.score(X=vars_indep, y=var_dep)\n",
    "coef_Deter"
   ]
  },
  {
   "cell_type": "code",
   "execution_count": null,
   "metadata": {},
   "outputs": [],
   "source": [
    "coef_Correl=np.sqrt(coef_Deter)\n",
    "coef_Correl"
   ]
  },
  {
   "cell_type": "code",
   "execution_count": null,
   "metadata": {},
   "outputs": [],
   "source": [
    "Entire6.info()"
   ]
  },
  {
   "cell_type": "code",
   "execution_count": null,
   "metadata": {},
   "outputs": [],
   "source": [
    "Entire6 = Entire6.drop(Entire6.loc[:, 'last_scraped':'neighbourhood'].columns, axis=1)\n",
    "Entire6 = Entire6.drop(Entire6.loc[:, 'room_type':'instant_bookable'].columns, axis=1)\n",
    "Entire6.info()"
   ]
  },
  {
   "cell_type": "code",
   "execution_count": null,
   "metadata": {},
   "outputs": [],
   "source": [
    "sns.pairplot(Entire6)"
   ]
  },
  {
   "cell_type": "code",
   "execution_count": null,
   "metadata": {},
   "outputs": [],
   "source": [
    "Corr_Factors=Entire6.corr()\n",
    "Corr_Factors"
   ]
  },
  {
   "cell_type": "code",
   "execution_count": null,
   "metadata": {},
   "outputs": [],
   "source": [
    "Corr_Factors1=abs(Corr_Factors)\n",
    "Corr_Factors1"
   ]
  },
  {
   "cell_type": "code",
   "execution_count": null,
   "metadata": {},
   "outputs": [],
   "source": [
    "Heat_Map=sns.heatmap(Corr_Factors1, cmap='Reds')\n",
    "Heat_Map"
   ]
  },
  {
   "cell_type": "markdown",
   "metadata": {},
   "source": [
    "**Regresión Lineal Simple para la variable Private**"
   ]
  },
  {
   "cell_type": "markdown",
   "metadata": {},
   "source": [
    "**price vs host_acceptance rate**"
   ]
  },
  {
   "cell_type": "code",
   "execution_count": null,
   "metadata": {},
   "outputs": [],
   "source": [
    "Private=pd.read_csv(\"México_Private.csv\")\n",
    "Private = Private.drop(['Unnamed: 0'], axis=1)"
   ]
  },
  {
   "cell_type": "code",
   "execution_count": null,
   "metadata": {},
   "outputs": [],
   "source": [
    "from turtle import color \n",
    "sns.scatterplot(x='host_acceptance_rate', y='price', color=\"red\", data=Private)"
   ]
  },
  {
   "cell_type": "code",
   "execution_count": null,
   "metadata": {},
   "outputs": [],
   "source": [
    "\n",
    "vars_indep= Private[['host_acceptance_rate']]\n",
    "var_dep=Private['price']"
   ]
  },
  {
   "cell_type": "code",
   "execution_count": null,
   "metadata": {},
   "outputs": [],
   "source": [
    "from sklearn.linear_model import LinearRegression\n",
    "model= LinearRegression()\n",
    "type(model)\n",
    "model.fit(X=vars_indep, y=var_dep)\n",
    "model.__dict__"
   ]
  },
  {
   "cell_type": "code",
   "execution_count": null,
   "metadata": {},
   "outputs": [],
   "source": [
    "model.score(vars_indep,var_dep)"
   ]
  },
  {
   "cell_type": "code",
   "execution_count": null,
   "metadata": {},
   "outputs": [],
   "source": [
    "y_pred=model.predict(X= Private[['host_acceptance_rate']])\n",
    "y_pred"
   ]
  },
  {
   "cell_type": "code",
   "execution_count": null,
   "metadata": {},
   "outputs": [],
   "source": [
    "Private.insert(9,'Predicciones', y_pred)"
   ]
  },
  {
   "cell_type": "code",
   "execution_count": null,
   "metadata": {},
   "outputs": [],
   "source": [
    "sns.scatterplot(x='host_acceptance_rate', y='price', color='blue', data=Private)\n",
    "sns.scatterplot(x='host_acceptance_rate', y='Predicciones', color='red', data=Private)"
   ]
  },
  {
   "cell_type": "code",
   "execution_count": null,
   "metadata": {},
   "outputs": [],
   "source": [
    "coef_deter=model.score(X=vars_indep, y=var_dep)\n",
    "coef_deter"
   ]
  },
  {
   "cell_type": "code",
   "execution_count": null,
   "metadata": {},
   "outputs": [],
   "source": [
    "coef_correl=np.sqrt(coef_deter)\n",
    "coef_correl"
   ]
  },
  {
   "cell_type": "code",
   "execution_count": null,
   "metadata": {},
   "outputs": [],
   "source": [
    "Private = Private.drop(Private.loc[:, 'last_scraped':'instant_bookable'].columns, axis=1)"
   ]
  },
  {
   "cell_type": "code",
   "execution_count": null,
   "metadata": {},
   "outputs": [],
   "source": [
    "sns.pairplot(Private)"
   ]
  },
  {
   "cell_type": "code",
   "execution_count": null,
   "metadata": {},
   "outputs": [],
   "source": [
    "Corr_Factors=Private.corr()\n",
    "Corr_Factors"
   ]
  },
  {
   "cell_type": "code",
   "execution_count": null,
   "metadata": {},
   "outputs": [],
   "source": [
    "Corr_Factors1=abs(Corr_Factors)\n",
    "Corr_Factors1"
   ]
  },
  {
   "cell_type": "code",
   "execution_count": null,
   "metadata": {},
   "outputs": [],
   "source": [
    "Heat_Map=sns.heatmap(Corr_Factors1, cmap='Reds')\n",
    "Heat_Map"
   ]
  },
  {
   "cell_type": "markdown",
   "metadata": {},
   "source": [
    "**Price vs Host_is_superhost**"
   ]
  },
  {
   "cell_type": "code",
   "execution_count": null,
   "metadata": {},
   "outputs": [],
   "source": [
    "Private1=pd.read_csv('México_Private.csv')"
   ]
  },
  {
   "cell_type": "code",
   "execution_count": null,
   "metadata": {},
   "outputs": [],
   "source": [
    "Private1[\"host_is_superhost\"] = Private1[\"host_is_superhost\"].replace({\"t\": 1, \"f\": 0, \"SIN INFORMACION\": 0})"
   ]
  },
  {
   "cell_type": "code",
   "execution_count": null,
   "metadata": {},
   "outputs": [],
   "source": [
    "from turtle import color \n",
    "\n",
    "sns.scatterplot(x='host_is_superhost', y='price', color=\"red\", data=Private1)"
   ]
  },
  {
   "cell_type": "code",
   "execution_count": null,
   "metadata": {},
   "outputs": [],
   "source": [
    "vars_indep= Private1[['host_is_superhost']]\n",
    "var_dep=Private1['price']"
   ]
  },
  {
   "cell_type": "code",
   "execution_count": null,
   "metadata": {},
   "outputs": [],
   "source": [
    "from sklearn.linear_model import LinearRegression\n",
    "model= LinearRegression()\n",
    "type(model)\n",
    "model.fit(X=vars_indep, y=var_dep)\n",
    "model.__dict__"
   ]
  },
  {
   "cell_type": "code",
   "execution_count": null,
   "metadata": {},
   "outputs": [],
   "source": [
    "model.score(vars_indep,var_dep)"
   ]
  },
  {
   "cell_type": "code",
   "execution_count": null,
   "metadata": {},
   "outputs": [],
   "source": [
    "y_pred=model.predict(X=Private1[['host_is_superhost']])\n",
    "y_pred"
   ]
  },
  {
   "cell_type": "code",
   "execution_count": null,
   "metadata": {},
   "outputs": [],
   "source": [
    "Private1 = Private1.drop(['Unnamed: 0'], axis=1)"
   ]
  },
  {
   "cell_type": "code",
   "execution_count": null,
   "metadata": {},
   "outputs": [],
   "source": [
    "Private1.insert(9,'Predicciones', y_pred)"
   ]
  },
  {
   "cell_type": "code",
   "execution_count": null,
   "metadata": {},
   "outputs": [],
   "source": [
    "sns.scatterplot(x='host_is_superhost', y='price', color='blue', data=Private1)\n",
    "sns.scatterplot(x='host_is_superhost', y='Predicciones', color='red', data=Private1)"
   ]
  },
  {
   "cell_type": "code",
   "execution_count": null,
   "metadata": {},
   "outputs": [],
   "source": [
    "coef_Deter=model.score(X=vars_indep, y=var_dep)\n",
    "coef_Deter"
   ]
  },
  {
   "cell_type": "code",
   "execution_count": null,
   "metadata": {},
   "outputs": [],
   "source": [
    "coef_Correl=np.sqrt(coef_Deter)\n",
    "coef_Correl"
   ]
  },
  {
   "cell_type": "code",
   "execution_count": null,
   "metadata": {},
   "outputs": [],
   "source": [
    "Private1 = Private1.drop(Private1.loc[:, 'last_scraped':'host_response_time'].columns, axis=1)\n",
    "Private1 = Private1.drop(Private1.loc[:, 'host_verifications':'instant_bookable'].columns, axis=1)"
   ]
  },
  {
   "cell_type": "code",
   "execution_count": null,
   "metadata": {},
   "outputs": [],
   "source": [
    "sns.pairplot(Private1)"
   ]
  },
  {
   "cell_type": "code",
   "execution_count": null,
   "metadata": {},
   "outputs": [],
   "source": [
    "Corr_Factors=Private1.corr()\n",
    "Corr_Factors"
   ]
  },
  {
   "cell_type": "code",
   "execution_count": null,
   "metadata": {},
   "outputs": [],
   "source": [
    "Corr_Factors1=abs(Corr_Factors)\n",
    "Corr_Factors1"
   ]
  },
  {
   "cell_type": "code",
   "execution_count": null,
   "metadata": {},
   "outputs": [],
   "source": [
    "Heat_Map=sns.heatmap(Corr_Factors1, cmap='Reds')\n",
    "Heat_Map"
   ]
  },
  {
   "cell_type": "markdown",
   "metadata": {},
   "source": [
    "**Accommodates vs Bathrooms**"
   ]
  },
  {
   "cell_type": "code",
   "execution_count": null,
   "metadata": {},
   "outputs": [],
   "source": [
    "Private2=pd.read_csv('México_Private.csv')"
   ]
  },
  {
   "cell_type": "code",
   "execution_count": null,
   "metadata": {},
   "outputs": [],
   "source": [
    "from turtle import color \n",
    "\n",
    "sns.scatterplot(x='bathrooms', y='accommodates', color=\"red\", data=Private2)"
   ]
  },
  {
   "cell_type": "code",
   "execution_count": null,
   "metadata": {},
   "outputs": [],
   "source": [
    "vars_indep= Private2[['bathrooms']]\n",
    "var_dep=Private2['accommodates']"
   ]
  },
  {
   "cell_type": "code",
   "execution_count": null,
   "metadata": {},
   "outputs": [],
   "source": [
    "from sklearn.linear_model import LinearRegression\n",
    "model= LinearRegression()\n",
    "type(model)\n",
    "model.fit(X=vars_indep, y=var_dep)\n",
    "model.__dict__"
   ]
  },
  {
   "cell_type": "code",
   "execution_count": null,
   "metadata": {},
   "outputs": [],
   "source": [
    "model.score(vars_indep,var_dep)"
   ]
  },
  {
   "cell_type": "code",
   "execution_count": null,
   "metadata": {},
   "outputs": [],
   "source": [
    "y_pred=model.predict(X=Private2[['bathrooms']])\n",
    "y_pred"
   ]
  },
  {
   "cell_type": "code",
   "execution_count": null,
   "metadata": {},
   "outputs": [],
   "source": [
    "Private2 = Private2.drop(['Unnamed: 0'], axis=1)"
   ]
  },
  {
   "cell_type": "code",
   "execution_count": null,
   "metadata": {},
   "outputs": [],
   "source": [
    "Private2.insert(5,'Predicciones', y_pred)"
   ]
  },
  {
   "cell_type": "code",
   "execution_count": null,
   "metadata": {},
   "outputs": [],
   "source": [
    "sns.scatterplot(x='bathrooms', y='accommodates', color='blue', data=Private2)\n",
    "sns.scatterplot(x='bathrooms', y='Predicciones', color='red', data=Private2)"
   ]
  },
  {
   "cell_type": "code",
   "execution_count": null,
   "metadata": {},
   "outputs": [],
   "source": [
    "coef_Deter=model.score(X=vars_indep, y=var_dep)\n",
    "coef_Deter"
   ]
  },
  {
   "cell_type": "code",
   "execution_count": null,
   "metadata": {},
   "outputs": [],
   "source": [
    "coef_Correl=np.sqrt(coef_Deter)\n",
    "coef_Correl"
   ]
  },
  {
   "cell_type": "code",
   "execution_count": null,
   "metadata": {},
   "outputs": [],
   "source": [
    "Private2 = Private2.drop(Private2.loc[:, 'last_scraped':'instant_bookable'].columns, axis=1)"
   ]
  },
  {
   "cell_type": "code",
   "execution_count": null,
   "metadata": {},
   "outputs": [],
   "source": [
    "sns.pairplot(Private2)"
   ]
  },
  {
   "cell_type": "code",
   "execution_count": null,
   "metadata": {},
   "outputs": [],
   "source": [
    "Corr_Factors=Private2.corr()\n",
    "Corr_Factors"
   ]
  },
  {
   "cell_type": "code",
   "execution_count": null,
   "metadata": {},
   "outputs": [],
   "source": [
    "Corr_Factors1=abs(Corr_Factors)\n",
    "Corr_Factors1"
   ]
  },
  {
   "cell_type": "code",
   "execution_count": null,
   "metadata": {},
   "outputs": [],
   "source": [
    "Heat_Map=sns.heatmap(Corr_Factors1, cmap='Reds')\n",
    "Heat_Map"
   ]
  },
  {
   "cell_type": "markdown",
   "metadata": {},
   "source": [
    "**price vs review_scores_cleanliness**"
   ]
  },
  {
   "cell_type": "code",
   "execution_count": null,
   "metadata": {},
   "outputs": [],
   "source": [
    "Private3=pd.read_csv('México_Private.csv')"
   ]
  },
  {
   "cell_type": "code",
   "execution_count": null,
   "metadata": {},
   "outputs": [],
   "source": [
    "from turtle import color \n",
    "\n",
    "sns.scatterplot(x='review_scores_cleanliness', y='price', color=\"red\", data=Private3)"
   ]
  },
  {
   "cell_type": "code",
   "execution_count": null,
   "metadata": {},
   "outputs": [],
   "source": [
    "vars_indep= Private3[['review_scores_cleanliness']]\n",
    "var_dep=Private3['price']"
   ]
  },
  {
   "cell_type": "code",
   "execution_count": null,
   "metadata": {},
   "outputs": [],
   "source": [
    "from sklearn.linear_model import LinearRegression\n",
    "model= LinearRegression()\n",
    "type(model)\n",
    "model.fit(X=vars_indep, y=var_dep)\n",
    "model.__dict__"
   ]
  },
  {
   "cell_type": "code",
   "execution_count": null,
   "metadata": {},
   "outputs": [],
   "source": [
    "model.score(vars_indep,var_dep)"
   ]
  },
  {
   "cell_type": "code",
   "execution_count": null,
   "metadata": {},
   "outputs": [],
   "source": [
    "y_pred=model.predict(X=Private3[['review_scores_cleanliness']])\n",
    "y_pred"
   ]
  },
  {
   "cell_type": "code",
   "execution_count": null,
   "metadata": {},
   "outputs": [],
   "source": [
    "Private3 = Private3.drop(['Unnamed: 0'], axis=1)"
   ]
  },
  {
   "cell_type": "code",
   "execution_count": null,
   "metadata": {},
   "outputs": [],
   "source": [
    "Private3.insert(9,'Predicciones', y_pred)"
   ]
  },
  {
   "cell_type": "code",
   "execution_count": null,
   "metadata": {},
   "outputs": [],
   "source": [
    "sns.scatterplot(x='review_scores_cleanliness', y='price', color='blue', data=Private3)\n",
    "sns.scatterplot(x='review_scores_cleanliness', y='Predicciones', color='red', data=Private3)"
   ]
  },
  {
   "cell_type": "code",
   "execution_count": null,
   "metadata": {},
   "outputs": [],
   "source": [
    "coef_Deter=model.score(X=vars_indep, y=var_dep)\n",
    "coef_Deter"
   ]
  },
  {
   "cell_type": "code",
   "execution_count": null,
   "metadata": {},
   "outputs": [],
   "source": [
    "coef_Correl=np.sqrt(coef_Deter)\n",
    "coef_Correl"
   ]
  },
  {
   "cell_type": "code",
   "execution_count": null,
   "metadata": {},
   "outputs": [],
   "source": [
    "Private3 = Private3.drop(Private3.loc[:, 'last_scraped':'instant_bookable'].columns, axis=1)"
   ]
  },
  {
   "cell_type": "code",
   "execution_count": null,
   "metadata": {},
   "outputs": [],
   "source": [
    "sns.pairplot(Private3)"
   ]
  },
  {
   "cell_type": "code",
   "execution_count": null,
   "metadata": {},
   "outputs": [],
   "source": [
    "Corr_Factors=Private3.corr()\n",
    "Corr_Factors"
   ]
  },
  {
   "cell_type": "code",
   "execution_count": null,
   "metadata": {},
   "outputs": [],
   "source": [
    "Corr_Factors1=abs(Corr_Factors)\n",
    "Corr_Factors1"
   ]
  },
  {
   "cell_type": "code",
   "execution_count": null,
   "metadata": {},
   "outputs": [],
   "source": [
    "Heat_Map=sns.heatmap(Corr_Factors1, cmap='Reds')\n",
    "Heat_Map"
   ]
  },
  {
   "cell_type": "markdown",
   "metadata": {},
   "source": [
    "**Price vs host_identity_verified**"
   ]
  },
  {
   "cell_type": "code",
   "execution_count": null,
   "metadata": {},
   "outputs": [],
   "source": [
    "Private4=pd.read_csv('México_Private.csv')"
   ]
  },
  {
   "cell_type": "code",
   "execution_count": null,
   "metadata": {},
   "outputs": [],
   "source": [
    "Private4[\"host_identity_verified\"] = Private4[\"host_identity_verified\"].replace({\"t\": 1, \"f\": 0})"
   ]
  },
  {
   "cell_type": "code",
   "execution_count": null,
   "metadata": {},
   "outputs": [],
   "source": [
    "from turtle import color \n",
    "\n",
    "sns.scatterplot(x='host_identity_verified', y='price', color=\"red\", data=Private4)"
   ]
  },
  {
   "cell_type": "code",
   "execution_count": null,
   "metadata": {},
   "outputs": [],
   "source": [
    "vars_indep= Private4[['host_identity_verified']]\n",
    "var_dep=Private4['price']"
   ]
  },
  {
   "cell_type": "code",
   "execution_count": null,
   "metadata": {},
   "outputs": [],
   "source": [
    "from sklearn.linear_model import LinearRegression\n",
    "model= LinearRegression()\n",
    "type(model)\n",
    "model.fit(X=vars_indep, y=var_dep)\n",
    "model.__dict__"
   ]
  },
  {
   "cell_type": "code",
   "execution_count": null,
   "metadata": {},
   "outputs": [],
   "source": [
    "model.score(vars_indep,var_dep)"
   ]
  },
  {
   "cell_type": "code",
   "execution_count": null,
   "metadata": {},
   "outputs": [],
   "source": [
    "y_pred=model.predict(X=Private4[['host_identity_verified']])\n",
    "y_pred"
   ]
  },
  {
   "cell_type": "code",
   "execution_count": null,
   "metadata": {},
   "outputs": [],
   "source": [
    "Private4 = Private4.drop(['Unnamed: 0'], axis=1)"
   ]
  },
  {
   "cell_type": "code",
   "execution_count": null,
   "metadata": {},
   "outputs": [],
   "source": [
    "Private4.insert(9,'Predicciones', y_pred)"
   ]
  },
  {
   "cell_type": "code",
   "execution_count": null,
   "metadata": {},
   "outputs": [],
   "source": [
    "sns.scatterplot(x='host_identity_verified', y='price', color='blue', data=Private4)\n",
    "sns.scatterplot(x='host_identity_verified', y='Predicciones', color='red', data=Private4)"
   ]
  },
  {
   "cell_type": "code",
   "execution_count": null,
   "metadata": {},
   "outputs": [],
   "source": [
    "coef_Deter=model.score(X=vars_indep, y=var_dep)\n",
    "coef_Deter"
   ]
  },
  {
   "cell_type": "code",
   "execution_count": null,
   "metadata": {},
   "outputs": [],
   "source": [
    "coef_Correl=np.sqrt(coef_Deter)\n",
    "coef_Correl"
   ]
  },
  {
   "cell_type": "code",
   "execution_count": null,
   "metadata": {},
   "outputs": [],
   "source": [
    "Private4 = Private4.drop(Private4.loc[:, 'last_scraped':'host_has_profile_pic'].columns, axis=1)\n",
    "Private4 = Private4.drop(Private4.loc[:, 'neighbourhood':'instant_bookable'].columns, axis=1)"
   ]
  },
  {
   "cell_type": "code",
   "execution_count": null,
   "metadata": {},
   "outputs": [],
   "source": [
    "sns.pairplot(Private4)"
   ]
  },
  {
   "cell_type": "code",
   "execution_count": null,
   "metadata": {},
   "outputs": [],
   "source": [
    "Corr_Factors=Private4.corr()\n",
    "Corr_Factors"
   ]
  },
  {
   "cell_type": "code",
   "execution_count": null,
   "metadata": {},
   "outputs": [],
   "source": [
    "Corr_Factors1=abs(Corr_Factors)\n",
    "Corr_Factors1"
   ]
  },
  {
   "cell_type": "code",
   "execution_count": null,
   "metadata": {},
   "outputs": [],
   "source": [
    "Heat_Map=sns.heatmap(Corr_Factors1, cmap='Reds')\n",
    "Heat_Map"
   ]
  },
  {
   "cell_type": "markdown",
   "metadata": {},
   "source": [
    "**Price vs instant_bookable**"
   ]
  },
  {
   "cell_type": "code",
   "execution_count": null,
   "metadata": {},
   "outputs": [],
   "source": [
    "Private5=pd.read_csv('México_Private.csv')"
   ]
  },
  {
   "cell_type": "code",
   "execution_count": null,
   "metadata": {},
   "outputs": [],
   "source": [
    "Private5[\"instant_bookable\"] = Private5[\"instant_bookable\"].replace({\"t\": 1, \"f\": 0})"
   ]
  },
  {
   "cell_type": "code",
   "execution_count": null,
   "metadata": {},
   "outputs": [],
   "source": [
    "from turtle import color \n",
    "\n",
    "sns.scatterplot(x='instant_bookable', y='price', color=\"red\", data=Private5)"
   ]
  },
  {
   "cell_type": "code",
   "execution_count": null,
   "metadata": {},
   "outputs": [],
   "source": [
    "vars_indep= Private5[['instant_bookable']]\n",
    "var_dep=Private5['price']"
   ]
  },
  {
   "cell_type": "code",
   "execution_count": null,
   "metadata": {},
   "outputs": [],
   "source": [
    "from sklearn.linear_model import LinearRegression\n",
    "model= LinearRegression()\n",
    "type(model)\n",
    "model.fit(X=vars_indep, y=var_dep)\n",
    "model.__dict__"
   ]
  },
  {
   "cell_type": "code",
   "execution_count": null,
   "metadata": {},
   "outputs": [],
   "source": [
    "model.score(vars_indep,var_dep)"
   ]
  },
  {
   "cell_type": "code",
   "execution_count": null,
   "metadata": {},
   "outputs": [],
   "source": [
    "y_pred=model.predict(X=Private5[['instant_bookable']])\n",
    "y_pred"
   ]
  },
  {
   "cell_type": "code",
   "execution_count": null,
   "metadata": {},
   "outputs": [],
   "source": [
    "Private5 = Private5.drop(['Unnamed: 0'], axis=1)"
   ]
  },
  {
   "cell_type": "code",
   "execution_count": null,
   "metadata": {},
   "outputs": [],
   "source": [
    "Private5.insert(9,'Predicciones', y_pred)"
   ]
  },
  {
   "cell_type": "code",
   "execution_count": null,
   "metadata": {},
   "outputs": [],
   "source": [
    "sns.scatterplot(x='instant_bookable', y='price', color='blue', data=Private5)\n",
    "sns.scatterplot(x='instant_bookable', y='Predicciones', color='red', data=Private5)"
   ]
  },
  {
   "cell_type": "code",
   "execution_count": null,
   "metadata": {},
   "outputs": [],
   "source": [
    "coef_Deter=model.score(X=vars_indep, y=var_dep)\n",
    "coef_Deter"
   ]
  },
  {
   "cell_type": "code",
   "execution_count": null,
   "metadata": {},
   "outputs": [],
   "source": [
    "coef_Correl=np.sqrt(coef_Deter)\n",
    "coef_Correl"
   ]
  },
  {
   "cell_type": "code",
   "execution_count": null,
   "metadata": {},
   "outputs": [],
   "source": [
    "Private5 = Private5.drop(Private5.loc[:, 'last_scraped':'license'].columns, axis=1)"
   ]
  },
  {
   "cell_type": "code",
   "execution_count": null,
   "metadata": {},
   "outputs": [],
   "source": [
    "sns.pairplot(Private5)"
   ]
  },
  {
   "cell_type": "code",
   "execution_count": null,
   "metadata": {},
   "outputs": [],
   "source": [
    "Corr_Factors=Private5.corr()\n",
    "Corr_Factors"
   ]
  },
  {
   "cell_type": "code",
   "execution_count": null,
   "metadata": {},
   "outputs": [],
   "source": [
    "Corr_Factors1=abs(Corr_Factors)\n",
    "Corr_Factors1"
   ]
  },
  {
   "cell_type": "code",
   "execution_count": null,
   "metadata": {},
   "outputs": [],
   "source": [
    "Heat_Map=sns.heatmap(Corr_Factors1, cmap='Reds')\n",
    "Heat_Map"
   ]
  },
  {
   "cell_type": "markdown",
   "metadata": {},
   "source": [
    "**Price vs Property_type**"
   ]
  },
  {
   "cell_type": "code",
   "execution_count": null,
   "metadata": {},
   "outputs": [],
   "source": [
    "Private6=pd.read_csv('México_Private.csv')"
   ]
  },
  {
   "cell_type": "code",
   "execution_count": null,
   "metadata": {},
   "outputs": [],
   "source": [
    "Private6[\"property_type\"] = Private6[\"property_type\"].replace({\n",
    "    \"Private room\": 1,\n",
    "    \"Private room in rental unit\": 2,\n",
    "    \"Private room in home\": 3,\n",
    "    \"Private room in condo\": 4,\n",
    "    \"Private room in guest suite\": 5,\n",
    "    \"Private room in serviced apartment\": 6,\n",
    "    \"Private room in townhouse\": 7,\n",
    "    \"Private room in bed and breakfast\": 8,\n",
    "    \"Room in boutique hotel\": 9,\n",
    "    \"Private room in guesthouse\": 10,\n",
    "    \"Private room in loft\": 11,\n",
    "    \"Private room in tiny home\": 12,\n",
    "    \"Private room in farm stay\": 13,\n",
    "    \"Private room in villa\": 14,\n",
    "    \"Private room in casa particular\": 15,\n",
    "    \"Room in hotel\": 16,\n",
    "    \"Private room in floor\": 17,\n",
    "    \"Private room in cabin\": 18,\n",
    "    \"Room in aparthotel\": 19,\n",
    "    \"Private room in hostel\": 20,\n",
    "    \"Private room in earthen home\": 21,\n",
    "    \"Private room in dorm\": 22,\n",
    "    \"Private room in hut\": 23,\n",
    "    \"Private room in dome\": 24,\n",
    "    \"Private room in vacation home\": 25,\n",
    "    \"Private room in barn\": 26,\n",
    "    \"Private room in cottage\": 27,\n",
    "    \"Private room in shipping container\": 28,\n",
    "    \"Private room in nature lodge\": 29,\n",
    "    \"Private room in tower\": 30,\n",
    "    \"Private room in lighthouse\": 31,\n",
    "    \"Private room in pension\": 32,\n",
    "    \"Private room in bungalow\": 33,\n",
    "    \"Private room in chalet\": 34,\n",
    "    \"Private room in tent\": 35,\n",
    "    \"Private room in castle\": 36,\n",
    "    \"Private room in houseboat\": 37,\n",
    "    \"Private room in resort\": 38,\n",
    "    \"Private room in minsu\": 39\n",
    "})\n"
   ]
  },
  {
   "cell_type": "code",
   "execution_count": null,
   "metadata": {},
   "outputs": [],
   "source": [
    "Private6['host_acceptance_rate'].head(10)"
   ]
  },
  {
   "cell_type": "code",
   "execution_count": null,
   "metadata": {},
   "outputs": [],
   "source": [
    "Private6['host_acceptance_rate']= Private6['host_acceptance_rate'].astype(int)"
   ]
  },
  {
   "cell_type": "code",
   "execution_count": null,
   "metadata": {},
   "outputs": [],
   "source": [
    "Private6.info()"
   ]
  },
  {
   "cell_type": "code",
   "execution_count": null,
   "metadata": {},
   "outputs": [],
   "source": [
    "\n",
    "from turtle import color \n",
    "\n",
    "sns.scatterplot(x='property_type', y='price', color=\"red\", data=Private6)"
   ]
  },
  {
   "cell_type": "code",
   "execution_count": null,
   "metadata": {},
   "outputs": [],
   "source": [
    "vars_indep= Private6[['property_type']]\n",
    "var_dep=Private6['price']"
   ]
  },
  {
   "cell_type": "code",
   "execution_count": null,
   "metadata": {},
   "outputs": [],
   "source": [
    "from sklearn.linear_model import LinearRegression\n",
    "model= LinearRegression()\n",
    "type(model)\n",
    "model.fit(X=vars_indep, y=var_dep)\n",
    "model.__dict__"
   ]
  },
  {
   "cell_type": "code",
   "execution_count": null,
   "metadata": {},
   "outputs": [],
   "source": [
    "model.score(vars_indep,var_dep)"
   ]
  },
  {
   "cell_type": "code",
   "execution_count": null,
   "metadata": {},
   "outputs": [],
   "source": [
    "y_pred=model.predict(X=Private6[['property_type']])\n",
    "y_pred"
   ]
  },
  {
   "cell_type": "code",
   "execution_count": null,
   "metadata": {},
   "outputs": [],
   "source": [
    "Private6 = Private6.drop(['Unnamed: 0'], axis=1)"
   ]
  },
  {
   "cell_type": "code",
   "execution_count": null,
   "metadata": {},
   "outputs": [],
   "source": [
    "Private6.insert(9,'Predicciones', y_pred)"
   ]
  },
  {
   "cell_type": "code",
   "execution_count": null,
   "metadata": {},
   "outputs": [],
   "source": [
    "sns.scatterplot(x='property_type', y='price', color='blue', data=Private6)\n",
    "sns.scatterplot(x='property_type', y='Predicciones', color='red', data=Private6)"
   ]
  },
  {
   "cell_type": "code",
   "execution_count": null,
   "metadata": {},
   "outputs": [],
   "source": [
    "coef_Deter=model.score(X=vars_indep, y=var_dep)\n",
    "coef_Deter"
   ]
  },
  {
   "cell_type": "code",
   "execution_count": null,
   "metadata": {},
   "outputs": [],
   "source": [
    "coef_Correl=np.sqrt(coef_Deter)\n",
    "coef_Correl"
   ]
  },
  {
   "cell_type": "code",
   "execution_count": null,
   "metadata": {},
   "outputs": [],
   "source": [
    "Private6 = Private6.drop(Private6.loc[:, 'last_scraped':'neighbourhood'].columns, axis=1)\n",
    "Private6 = Private6.drop(Private6.loc[:, 'room_type':'instant_bookable'].columns, axis=1)"
   ]
  },
  {
   "cell_type": "code",
   "execution_count": null,
   "metadata": {},
   "outputs": [],
   "source": [
    "sns.pairplot(Private6)"
   ]
  },
  {
   "cell_type": "code",
   "execution_count": null,
   "metadata": {},
   "outputs": [],
   "source": [
    "Private6.info()"
   ]
  },
  {
   "cell_type": "code",
   "execution_count": null,
   "metadata": {},
   "outputs": [],
   "source": [
    "df6 = Private6.groupby(['host_response_rate'])['host_response_rate'].count()\n",
    "df6"
   ]
  },
  {
   "cell_type": "code",
   "execution_count": null,
   "metadata": {},
   "outputs": [],
   "source": [
    "Corr_Factors=Private6.corr()\n",
    "Corr_Factors"
   ]
  },
  {
   "cell_type": "code",
   "execution_count": null,
   "metadata": {},
   "outputs": [],
   "source": [
    "Corr_Factors1=abs(Corr_Factors)\n",
    "Corr_Factors1"
   ]
  },
  {
   "cell_type": "code",
   "execution_count": null,
   "metadata": {},
   "outputs": [],
   "source": [
    "Heat_Map=sns.heatmap(Corr_Factors1, cmap='Reds')\n",
    "Heat_Map"
   ]
  },
  {
   "cell_type": "markdown",
   "metadata": {},
   "source": [
    "**Regresión lineal simple para la variable Shared**"
   ]
  },
  {
   "cell_type": "markdown",
   "metadata": {},
   "source": [
    "**price vs host_acceptance_rate**"
   ]
  },
  {
   "cell_type": "code",
   "execution_count": null,
   "metadata": {},
   "outputs": [],
   "source": [
    "Shared=pd.read_csv(\"México_Shared.csv\")\n",
    "Shared= Shared.drop(['Unnamed: 0'], axis=1)"
   ]
  },
  {
   "cell_type": "code",
   "execution_count": null,
   "metadata": {},
   "outputs": [],
   "source": [
    "from turtle import color \n",
    "sns.scatterplot(x='host_acceptance_rate', y='price', color=\"red\", data=Shared)"
   ]
  },
  {
   "cell_type": "code",
   "execution_count": null,
   "metadata": {},
   "outputs": [],
   "source": [
    "vars_indep= Shared[['host_acceptance_rate']]\n",
    "var_dep=Shared['price']"
   ]
  },
  {
   "cell_type": "code",
   "execution_count": null,
   "metadata": {},
   "outputs": [],
   "source": [
    "from sklearn.linear_model import LinearRegression\n",
    "model= LinearRegression()\n",
    "type(model)\n",
    "model.fit(X=vars_indep, y=var_dep)\n",
    "model.__dict__"
   ]
  },
  {
   "cell_type": "code",
   "execution_count": null,
   "metadata": {},
   "outputs": [],
   "source": [
    "model.score(vars_indep,var_dep)"
   ]
  },
  {
   "cell_type": "code",
   "execution_count": null,
   "metadata": {},
   "outputs": [],
   "source": [
    "y_pred=model.predict(X= Shared[['host_acceptance_rate']])\n",
    "y_pred"
   ]
  },
  {
   "cell_type": "code",
   "execution_count": null,
   "metadata": {},
   "outputs": [],
   "source": [
    "Shared.insert(9,'Predicciones', y_pred)"
   ]
  },
  {
   "cell_type": "code",
   "execution_count": null,
   "metadata": {},
   "outputs": [],
   "source": [
    "sns.scatterplot(x='host_acceptance_rate', y='price', color='blue', data=Shared)\n",
    "sns.scatterplot(x='host_acceptance_rate', y='Predicciones', color='red', data=Shared)"
   ]
  },
  {
   "cell_type": "code",
   "execution_count": null,
   "metadata": {},
   "outputs": [],
   "source": [
    "coef_deter=model.score(X=vars_indep, y=var_dep)\n",
    "coef_deter"
   ]
  },
  {
   "cell_type": "code",
   "execution_count": null,
   "metadata": {},
   "outputs": [],
   "source": [
    "coef_correl=np.sqrt(coef_deter)\n",
    "coef_correl"
   ]
  },
  {
   "cell_type": "code",
   "execution_count": null,
   "metadata": {},
   "outputs": [],
   "source": [
    "Shared = Shared.drop(Shared.loc[:, 'last_scraped':'instant_bookable'].columns, axis=1)"
   ]
  },
  {
   "cell_type": "code",
   "execution_count": null,
   "metadata": {},
   "outputs": [],
   "source": [
    "sns.pairplot(Shared)"
   ]
  },
  {
   "cell_type": "code",
   "execution_count": null,
   "metadata": {},
   "outputs": [],
   "source": [
    "Corr_Factors=Shared.corr()\n",
    "Corr_Factors"
   ]
  },
  {
   "cell_type": "code",
   "execution_count": null,
   "metadata": {},
   "outputs": [],
   "source": [
    "Corr_Factors1=abs(Corr_Factors)\n",
    "Corr_Factors1"
   ]
  },
  {
   "cell_type": "code",
   "execution_count": null,
   "metadata": {},
   "outputs": [],
   "source": [
    "Heat_Map=sns.heatmap(Corr_Factors1, cmap='Reds')\n",
    "Heat_Map"
   ]
  },
  {
   "cell_type": "markdown",
   "metadata": {},
   "source": [
    "**Price vs Host_is_superhost**"
   ]
  },
  {
   "cell_type": "code",
   "execution_count": null,
   "metadata": {},
   "outputs": [],
   "source": [
    "Shared1=pd.read_csv('México_Shared.csv')\n",
    "Shared1 = Shared1.drop(['Unnamed: 0'], axis=1)"
   ]
  },
  {
   "cell_type": "code",
   "execution_count": null,
   "metadata": {},
   "outputs": [],
   "source": [
    "Shared1[\"host_is_superhost\"] = Shared1[\"host_is_superhost\"].replace({\"t\": 1, \"f\": 0, \"SIN INFORMACION\": 0})"
   ]
  },
  {
   "cell_type": "code",
   "execution_count": null,
   "metadata": {},
   "outputs": [],
   "source": [
    "from turtle import color \n",
    "\n",
    "sns.scatterplot(x='host_is_superhost', y='price', color=\"red\", data=Shared1)"
   ]
  },
  {
   "cell_type": "code",
   "execution_count": null,
   "metadata": {},
   "outputs": [],
   "source": [
    "vars_indep= Shared1[['host_is_superhost']]\n",
    "var_dep=Shared1['price']"
   ]
  },
  {
   "cell_type": "code",
   "execution_count": null,
   "metadata": {},
   "outputs": [],
   "source": [
    "from sklearn.linear_model import LinearRegression\n",
    "model= LinearRegression()\n",
    "type(model)\n",
    "model.fit(X=vars_indep, y=var_dep)\n",
    "model.__dict__"
   ]
  },
  {
   "cell_type": "code",
   "execution_count": null,
   "metadata": {},
   "outputs": [],
   "source": [
    "model.score(vars_indep,var_dep)"
   ]
  },
  {
   "cell_type": "code",
   "execution_count": null,
   "metadata": {},
   "outputs": [],
   "source": [
    "y_pred=model.predict(X=Shared1[['host_is_superhost']])\n",
    "y_pred"
   ]
  },
  {
   "cell_type": "code",
   "execution_count": null,
   "metadata": {},
   "outputs": [],
   "source": [
    "Shared1.insert(9,'Predicciones', y_pred)"
   ]
  },
  {
   "cell_type": "code",
   "execution_count": null,
   "metadata": {},
   "outputs": [],
   "source": [
    "sns.scatterplot(x='host_is_superhost', y='price', color='blue', data=Shared1)\n",
    "sns.scatterplot(x='host_is_superhost', y='Predicciones', color='red', data=Shared1)"
   ]
  },
  {
   "cell_type": "code",
   "execution_count": null,
   "metadata": {},
   "outputs": [],
   "source": [
    "coef_Deter=model.score(X=vars_indep, y=var_dep)\n",
    "coef_Deter"
   ]
  },
  {
   "cell_type": "code",
   "execution_count": null,
   "metadata": {},
   "outputs": [],
   "source": [
    "coef_Correl=np.sqrt(coef_Deter)\n",
    "coef_Correl"
   ]
  },
  {
   "cell_type": "code",
   "execution_count": null,
   "metadata": {},
   "outputs": [],
   "source": [
    "Shared1 = Shared1.drop(Shared1.loc[:, 'last_scraped':'host_response_time'].columns, axis=1)\n",
    "Shared1 = Shared1.drop(Shared1.loc[:, 'host_verifications':'instant_bookable'].columns, axis=1)"
   ]
  },
  {
   "cell_type": "code",
   "execution_count": null,
   "metadata": {},
   "outputs": [],
   "source": [
    "sns.pairplot(Shared1)"
   ]
  },
  {
   "cell_type": "code",
   "execution_count": null,
   "metadata": {},
   "outputs": [],
   "source": [
    "Corr_Factors=Shared1.corr()\n",
    "Corr_Factors"
   ]
  },
  {
   "cell_type": "code",
   "execution_count": null,
   "metadata": {},
   "outputs": [],
   "source": [
    "Corr_Factors1=abs(Corr_Factors)\n",
    "Corr_Factors1"
   ]
  },
  {
   "cell_type": "code",
   "execution_count": null,
   "metadata": {},
   "outputs": [],
   "source": [
    "Heat_Map=sns.heatmap(Corr_Factors1, cmap='Reds')\n",
    "Heat_Map"
   ]
  },
  {
   "cell_type": "markdown",
   "metadata": {},
   "source": [
    "**Accommodates vs Bathrooms**"
   ]
  },
  {
   "cell_type": "code",
   "execution_count": null,
   "metadata": {},
   "outputs": [],
   "source": [
    "Shared2=pd.read_csv('México_Shared.csv')\n",
    "Shared2 = Shared2.drop(['Unnamed: 0'], axis=1)"
   ]
  },
  {
   "cell_type": "code",
   "execution_count": null,
   "metadata": {},
   "outputs": [],
   "source": [
    "from turtle import color \n",
    "\n",
    "sns.scatterplot(x='bathrooms', y='accommodates', color=\"red\", data=Shared2)"
   ]
  },
  {
   "cell_type": "code",
   "execution_count": null,
   "metadata": {},
   "outputs": [],
   "source": [
    "vars_indep= Shared2[['bathrooms']]\n",
    "var_dep= Shared2['accommodates']"
   ]
  },
  {
   "cell_type": "code",
   "execution_count": null,
   "metadata": {},
   "outputs": [],
   "source": [
    "from sklearn.linear_model import LinearRegression\n",
    "model= LinearRegression()\n",
    "type(model)\n",
    "model.fit(X=vars_indep, y=var_dep)\n",
    "model.__dict__"
   ]
  },
  {
   "cell_type": "code",
   "execution_count": null,
   "metadata": {},
   "outputs": [],
   "source": [
    "model.score(vars_indep,var_dep)"
   ]
  },
  {
   "cell_type": "code",
   "execution_count": null,
   "metadata": {},
   "outputs": [],
   "source": [
    "y_pred=model.predict(X=Shared2[['bathrooms']])\n",
    "y_pred"
   ]
  },
  {
   "cell_type": "code",
   "execution_count": null,
   "metadata": {},
   "outputs": [],
   "source": [
    "Shared2.insert(5,'Predicciones', y_pred)"
   ]
  },
  {
   "cell_type": "code",
   "execution_count": null,
   "metadata": {},
   "outputs": [],
   "source": [
    "sns.scatterplot(x='bathrooms', y='accommodates', color='blue', data=Shared2)\n",
    "sns.scatterplot(x='bathrooms', y='Predicciones', color='red', data=Shared2)"
   ]
  },
  {
   "cell_type": "code",
   "execution_count": null,
   "metadata": {},
   "outputs": [],
   "source": [
    "coef_Deter=model.score(X=vars_indep, y=var_dep)\n",
    "coef_Deter"
   ]
  },
  {
   "cell_type": "code",
   "execution_count": null,
   "metadata": {},
   "outputs": [],
   "source": [
    "coef_Correl=np.sqrt(coef_Deter)\n",
    "coef_Correl"
   ]
  },
  {
   "cell_type": "code",
   "execution_count": null,
   "metadata": {},
   "outputs": [],
   "source": [
    "Shared2 = Shared2.drop(Shared2.loc[:, 'last_scraped':'instant_bookable'].columns, axis=1)"
   ]
  },
  {
   "cell_type": "code",
   "execution_count": null,
   "metadata": {},
   "outputs": [],
   "source": [
    "sns.pairplot(Shared2)"
   ]
  },
  {
   "cell_type": "code",
   "execution_count": null,
   "metadata": {},
   "outputs": [],
   "source": [
    "Corr_Factors=Shared2.corr()\n",
    "Corr_Factors"
   ]
  },
  {
   "cell_type": "code",
   "execution_count": null,
   "metadata": {},
   "outputs": [],
   "source": [
    "Corr_Factors1=abs(Corr_Factors)\n",
    "Corr_Factors1"
   ]
  },
  {
   "cell_type": "code",
   "execution_count": null,
   "metadata": {},
   "outputs": [],
   "source": [
    "Heat_Map=sns.heatmap(Corr_Factors1, cmap='Reds')\n",
    "Heat_Map"
   ]
  },
  {
   "cell_type": "markdown",
   "metadata": {},
   "source": [
    "**Price vs review_score_cleanliness**"
   ]
  },
  {
   "cell_type": "code",
   "execution_count": null,
   "metadata": {},
   "outputs": [],
   "source": [
    "Shared3=pd.read_csv('México_Shared.csv')\n",
    "Shared3 = Shared3.drop(['Unnamed: 0'], axis=1)"
   ]
  },
  {
   "cell_type": "code",
   "execution_count": null,
   "metadata": {},
   "outputs": [],
   "source": [
    "from turtle import color \n",
    "\n",
    "sns.scatterplot(x='review_scores_cleanliness', y='price', color=\"red\", data=Shared3)"
   ]
  },
  {
   "cell_type": "code",
   "execution_count": null,
   "metadata": {},
   "outputs": [],
   "source": [
    "vars_indep= Shared3[['review_scores_cleanliness']]\n",
    "var_dep=Shared3['price']"
   ]
  },
  {
   "cell_type": "code",
   "execution_count": null,
   "metadata": {},
   "outputs": [],
   "source": [
    "from sklearn.linear_model import LinearRegression\n",
    "model= LinearRegression()\n",
    "type(model)\n",
    "model.fit(X=vars_indep, y=var_dep)\n",
    "model.__dict__"
   ]
  },
  {
   "cell_type": "code",
   "execution_count": null,
   "metadata": {},
   "outputs": [],
   "source": [
    "model.score(vars_indep,var_dep)"
   ]
  },
  {
   "cell_type": "code",
   "execution_count": null,
   "metadata": {},
   "outputs": [],
   "source": [
    "y_pred=model.predict(X=Shared3[['review_scores_cleanliness']])\n",
    "y_pred"
   ]
  },
  {
   "cell_type": "code",
   "execution_count": null,
   "metadata": {},
   "outputs": [],
   "source": [
    "Shared3.insert(9,'Predicciones', y_pred)"
   ]
  },
  {
   "cell_type": "code",
   "execution_count": null,
   "metadata": {},
   "outputs": [],
   "source": [
    "sns.scatterplot(x='review_scores_cleanliness', y='price', color='blue', data=Shared3)\n",
    "sns.scatterplot(x='review_scores_cleanliness', y='Predicciones', color='red', data=Shared3)"
   ]
  },
  {
   "cell_type": "code",
   "execution_count": null,
   "metadata": {},
   "outputs": [],
   "source": [
    "coef_Deter=model.score(X=vars_indep, y=var_dep)\n",
    "coef_Deter"
   ]
  },
  {
   "cell_type": "code",
   "execution_count": null,
   "metadata": {},
   "outputs": [],
   "source": [
    "coef_Correl=np.sqrt(coef_Deter)\n",
    "coef_Correl"
   ]
  },
  {
   "cell_type": "code",
   "execution_count": null,
   "metadata": {},
   "outputs": [],
   "source": [
    "Shared3 = Shared3.drop(Shared3.loc[:, 'last_scraped':'instant_bookable'].columns, axis=1)"
   ]
  },
  {
   "cell_type": "code",
   "execution_count": null,
   "metadata": {},
   "outputs": [],
   "source": [
    "sns.pairplot(Shared3)"
   ]
  },
  {
   "cell_type": "code",
   "execution_count": null,
   "metadata": {},
   "outputs": [],
   "source": [
    "Corr_Factors=Shared3.corr()\n",
    "Corr_Factors"
   ]
  },
  {
   "cell_type": "code",
   "execution_count": null,
   "metadata": {},
   "outputs": [],
   "source": [
    "Corr_Factors1=abs(Corr_Factors)\n",
    "Corr_Factors1"
   ]
  },
  {
   "cell_type": "code",
   "execution_count": null,
   "metadata": {},
   "outputs": [],
   "source": [
    "Heat_Map=sns.heatmap(Corr_Factors1, cmap='Reds')\n",
    "Heat_Map"
   ]
  },
  {
   "cell_type": "markdown",
   "metadata": {},
   "source": [
    "**Price vs host_identity_verified**"
   ]
  },
  {
   "cell_type": "code",
   "execution_count": null,
   "metadata": {},
   "outputs": [],
   "source": [
    "Shared4=pd.read_csv('México_Shared.csv')\n",
    "Shared4 = Shared4.drop(['Unnamed: 0'], axis=1)"
   ]
  },
  {
   "cell_type": "code",
   "execution_count": null,
   "metadata": {},
   "outputs": [],
   "source": [
    "Shared4[\"host_identity_verified\"] = Shared4[\"host_identity_verified\"].replace({\"t\": 1, \"f\": 0})"
   ]
  },
  {
   "cell_type": "code",
   "execution_count": null,
   "metadata": {},
   "outputs": [],
   "source": [
    "from turtle import color \n",
    "\n",
    "sns.scatterplot(x='host_identity_verified', y='price', color=\"red\", data=Shared4)"
   ]
  },
  {
   "cell_type": "code",
   "execution_count": null,
   "metadata": {},
   "outputs": [],
   "source": [
    "vars_indep= Shared4[['host_identity_verified']]\n",
    "var_dep=Shared4['price']"
   ]
  },
  {
   "cell_type": "code",
   "execution_count": null,
   "metadata": {},
   "outputs": [],
   "source": [
    "from sklearn.linear_model import LinearRegression\n",
    "model= LinearRegression()\n",
    "type(model)\n",
    "model.fit(X=vars_indep, y=var_dep)\n",
    "model.__dict__"
   ]
  },
  {
   "cell_type": "code",
   "execution_count": null,
   "metadata": {},
   "outputs": [],
   "source": [
    "model.score(vars_indep,var_dep)"
   ]
  },
  {
   "cell_type": "code",
   "execution_count": null,
   "metadata": {},
   "outputs": [],
   "source": [
    "y_pred=model.predict(X=Shared4[['host_identity_verified']])\n",
    "y_pred"
   ]
  },
  {
   "cell_type": "code",
   "execution_count": null,
   "metadata": {},
   "outputs": [],
   "source": [
    "Shared4.insert(9,'Predicciones', y_pred)"
   ]
  },
  {
   "cell_type": "code",
   "execution_count": null,
   "metadata": {},
   "outputs": [],
   "source": [
    "sns.scatterplot(x='host_identity_verified', y='price', color='blue', data=Shared4)\n",
    "sns.scatterplot(x='host_identity_verified', y='Predicciones', color='red', data=Shared4)"
   ]
  },
  {
   "cell_type": "code",
   "execution_count": null,
   "metadata": {},
   "outputs": [],
   "source": [
    "coef_Deter=model.score(X=vars_indep, y=var_dep)\n",
    "coef_Deter"
   ]
  },
  {
   "cell_type": "code",
   "execution_count": null,
   "metadata": {},
   "outputs": [],
   "source": [
    "coef_Correl=np.sqrt(coef_Deter)\n",
    "coef_Correl"
   ]
  },
  {
   "cell_type": "code",
   "execution_count": null,
   "metadata": {},
   "outputs": [],
   "source": [
    "Shared4 = Shared4.drop(Shared4.loc[:, 'last_scraped':'host_has_profile_pic'].columns, axis=1)\n",
    "Shared4 = Shared4.drop(Shared4.loc[:, 'neighbourhood':'instant_bookable'].columns, axis=1)"
   ]
  },
  {
   "cell_type": "code",
   "execution_count": null,
   "metadata": {},
   "outputs": [],
   "source": [
    "sns.pairplot(Shared4)"
   ]
  },
  {
   "cell_type": "code",
   "execution_count": null,
   "metadata": {},
   "outputs": [],
   "source": [
    "Corr_Factors=Shared4.corr()\n",
    "Corr_Factors"
   ]
  },
  {
   "cell_type": "code",
   "execution_count": null,
   "metadata": {},
   "outputs": [],
   "source": [
    "Corr_Factors1=abs(Corr_Factors)\n",
    "Corr_Factors1"
   ]
  },
  {
   "cell_type": "code",
   "execution_count": null,
   "metadata": {},
   "outputs": [],
   "source": [
    "Heat_Map=sns.heatmap(Corr_Factors1, cmap='Reds')\n",
    "Heat_Map"
   ]
  },
  {
   "cell_type": "markdown",
   "metadata": {},
   "source": [
    "**Price vs instant_bookable**"
   ]
  },
  {
   "cell_type": "code",
   "execution_count": null,
   "metadata": {},
   "outputs": [],
   "source": [
    "Shared5=pd.read_csv('México_Shared.csv')\n",
    "Shared5 = Shared5.drop(['Unnamed: 0'], axis=1)"
   ]
  },
  {
   "cell_type": "code",
   "execution_count": null,
   "metadata": {},
   "outputs": [],
   "source": [
    "Shared5[\"instant_bookable\"] = Shared5[\"instant_bookable\"].replace({\"t\": 1, \"f\": 0})"
   ]
  },
  {
   "cell_type": "code",
   "execution_count": null,
   "metadata": {},
   "outputs": [],
   "source": [
    "from turtle import color \n",
    "\n",
    "sns.scatterplot(x='instant_bookable', y='price', color=\"red\", data=Shared5)"
   ]
  },
  {
   "cell_type": "code",
   "execution_count": null,
   "metadata": {},
   "outputs": [],
   "source": [
    "vars_indep= Shared5[['instant_bookable']]\n",
    "var_dep=Shared5['price']"
   ]
  },
  {
   "cell_type": "code",
   "execution_count": null,
   "metadata": {},
   "outputs": [],
   "source": [
    "from sklearn.linear_model import LinearRegression\n",
    "model= LinearRegression()\n",
    "type(model)\n",
    "model.fit(X=vars_indep, y=var_dep)\n",
    "model.__dict__"
   ]
  },
  {
   "cell_type": "code",
   "execution_count": null,
   "metadata": {},
   "outputs": [],
   "source": [
    "model.score(vars_indep,var_dep)"
   ]
  },
  {
   "cell_type": "code",
   "execution_count": null,
   "metadata": {},
   "outputs": [],
   "source": [
    "y_pred=model.predict(X=Shared5[['instant_bookable']])\n",
    "y_pred"
   ]
  },
  {
   "cell_type": "code",
   "execution_count": null,
   "metadata": {},
   "outputs": [],
   "source": [
    "Shared5.insert(9,'Predicciones', y_pred)"
   ]
  },
  {
   "cell_type": "code",
   "execution_count": null,
   "metadata": {},
   "outputs": [],
   "source": [
    "sns.scatterplot(x='instant_bookable', y='price', color='blue', data=Shared5)\n",
    "sns.scatterplot(x='instant_bookable', y='Predicciones', color='red', data=Shared5)"
   ]
  },
  {
   "cell_type": "code",
   "execution_count": null,
   "metadata": {},
   "outputs": [],
   "source": [
    "coef_Deter=model.score(X=vars_indep, y=var_dep)\n",
    "coef_Deter"
   ]
  },
  {
   "cell_type": "code",
   "execution_count": null,
   "metadata": {},
   "outputs": [],
   "source": [
    "coef_Correl=np.sqrt(coef_Deter)\n",
    "coef_Correl"
   ]
  },
  {
   "cell_type": "code",
   "execution_count": null,
   "metadata": {},
   "outputs": [],
   "source": [
    "Shared5 = Shared5.drop(Shared5.loc[:, 'last_scraped':'license'].columns, axis=1)"
   ]
  },
  {
   "cell_type": "code",
   "execution_count": null,
   "metadata": {},
   "outputs": [],
   "source": [
    "sns.pairplot(Shared5)"
   ]
  },
  {
   "cell_type": "code",
   "execution_count": null,
   "metadata": {},
   "outputs": [],
   "source": [
    "Corr_Factors=Shared5.corr()\n",
    "Corr_Factors"
   ]
  },
  {
   "cell_type": "code",
   "execution_count": null,
   "metadata": {},
   "outputs": [],
   "source": [
    "Corr_Factors1=abs(Corr_Factors)\n",
    "Corr_Factors1"
   ]
  },
  {
   "cell_type": "code",
   "execution_count": null,
   "metadata": {},
   "outputs": [],
   "source": [
    "Heat_Map=sns.heatmap(Corr_Factors1, cmap='Reds')\n",
    "Heat_Map"
   ]
  },
  {
   "cell_type": "markdown",
   "metadata": {},
   "source": [
    "**Price vs Property_type**"
   ]
  },
  {
   "cell_type": "code",
   "execution_count": null,
   "metadata": {},
   "outputs": [],
   "source": [
    "Shared6=pd.read_csv('México_Shared.csv')\n",
    "Shared6 = Shared6.drop(['Unnamed: 0'], axis=1)"
   ]
  },
  {
   "cell_type": "code",
   "execution_count": null,
   "metadata": {},
   "outputs": [],
   "source": [
    "Shared6[\"property_type\"] = Shared6[\"property_type\"].replace({\n",
    "    \"Shared room in rental unit\": 1,\n",
    "    \"Shared room in loft\": 2,\n",
    "    \"Shared room in guesthouse\": 3,\n",
    "    \"Shared room in hostel\": 4,\n",
    "    \"Shared room in home\": 5,\n",
    "    \"Shared room in guest suite\": 6,\n",
    "    \"Shared room in dorm\": 7,\n",
    "    \"Shared room in condo\": 8,\n",
    "    \"Shared room in hotel\": 9,\n",
    "    \"Shared room in tiny home\": 10,\n",
    "    \"Shared room in cabin\": 11,\n",
    "    \"Shared room in serviced apartment\": 12,\n",
    "    \"Shared room in tent\": 13,\n",
    "    \"Shared room in bed and breakfast\": 14,\n",
    "    \"Shared room in casa particular\": 15,\n",
    "    \"Shared room in townhouse\": 16,\n",
    "    \"Shared room in farm stay\": 17,\n",
    "    \"Shared room in boutique hotel\": 18\n",
    "})"
   ]
  },
  {
   "cell_type": "code",
   "execution_count": null,
   "metadata": {},
   "outputs": [],
   "source": [
    "from turtle import color \n",
    "\n",
    "sns.scatterplot(x='property_type', y='price', color=\"red\", data=Shared6)"
   ]
  },
  {
   "cell_type": "code",
   "execution_count": null,
   "metadata": {},
   "outputs": [],
   "source": [
    "vars_indep= Shared6[['property_type']]\n",
    "var_dep=Shared6['price']"
   ]
  },
  {
   "cell_type": "code",
   "execution_count": null,
   "metadata": {},
   "outputs": [],
   "source": [
    "from sklearn.linear_model import LinearRegression\n",
    "model= LinearRegression()\n",
    "type(model)\n",
    "model.fit(X=vars_indep, y=var_dep)\n",
    "model.__dict__"
   ]
  },
  {
   "cell_type": "code",
   "execution_count": null,
   "metadata": {},
   "outputs": [],
   "source": [
    "model.score(vars_indep,var_dep)"
   ]
  },
  {
   "cell_type": "code",
   "execution_count": null,
   "metadata": {},
   "outputs": [],
   "source": [
    "y_pred=model.predict(X=Shared6[['property_type']])\n",
    "y_pred"
   ]
  },
  {
   "cell_type": "code",
   "execution_count": null,
   "metadata": {},
   "outputs": [],
   "source": [
    "Shared6.insert(9,'Predicciones', y_pred)"
   ]
  },
  {
   "cell_type": "code",
   "execution_count": null,
   "metadata": {},
   "outputs": [],
   "source": [
    "sns.scatterplot(x='property_type', y='price', color='blue', data=Shared6)\n",
    "sns.scatterplot(x='property_type', y='Predicciones', color='red', data=Shared6)"
   ]
  },
  {
   "cell_type": "code",
   "execution_count": null,
   "metadata": {},
   "outputs": [],
   "source": [
    "coef_Deter=model.score(X=vars_indep, y=var_dep)\n",
    "coef_Deter"
   ]
  },
  {
   "cell_type": "code",
   "execution_count": null,
   "metadata": {},
   "outputs": [],
   "source": [
    "coef_Correl=np.sqrt(coef_Deter)\n",
    "coef_Correl"
   ]
  },
  {
   "cell_type": "code",
   "execution_count": null,
   "metadata": {},
   "outputs": [],
   "source": [
    "Shared6 = Shared6.drop(Shared6.loc[:, 'last_scraped':'neighbourhood'].columns, axis=1)\n",
    "Shared6 = Shared6.drop(Shared6.loc[:, 'room_type':'instant_bookable'].columns, axis=1)"
   ]
  },
  {
   "cell_type": "code",
   "execution_count": null,
   "metadata": {},
   "outputs": [],
   "source": [
    "sns.pairplot(Shared6)"
   ]
  },
  {
   "cell_type": "code",
   "execution_count": null,
   "metadata": {},
   "outputs": [],
   "source": [
    "Corr_Factors=Shared6.corr()\n",
    "Corr_Factors"
   ]
  },
  {
   "cell_type": "code",
   "execution_count": null,
   "metadata": {},
   "outputs": [],
   "source": [
    "Corr_Factors1=abs(Corr_Factors)\n",
    "Corr_Factors1"
   ]
  },
  {
   "cell_type": "code",
   "execution_count": null,
   "metadata": {},
   "outputs": [],
   "source": [
    "Heat_Map=sns.heatmap(Corr_Factors1, cmap='Reds')\n",
    "Heat_Map"
   ]
  },
  {
   "cell_type": "markdown",
   "metadata": {},
   "source": [
    "**Regresión lineal simple para la variable Hotel**"
   ]
  },
  {
   "cell_type": "markdown",
   "metadata": {},
   "source": [
    "**Price vs Host_acceptance_rate**"
   ]
  },
  {
   "cell_type": "code",
   "execution_count": null,
   "metadata": {},
   "outputs": [],
   "source": [
    "Hotel=pd.read_csv(\"México_Hotel.csv\")\n",
    "Hotel= Hotel.drop(['Unnamed: 0'], axis=1)"
   ]
  },
  {
   "cell_type": "code",
   "execution_count": null,
   "metadata": {},
   "outputs": [],
   "source": [
    "from turtle import color \n",
    "sns.scatterplot(x='host_acceptance_rate', y='price', color=\"red\", data=Hotel)"
   ]
  },
  {
   "cell_type": "code",
   "execution_count": null,
   "metadata": {},
   "outputs": [],
   "source": [
    "vars_indep= Hotel[['host_acceptance_rate']]\n",
    "var_dep=Hotel['price']"
   ]
  },
  {
   "cell_type": "code",
   "execution_count": null,
   "metadata": {},
   "outputs": [],
   "source": [
    "from sklearn.linear_model import LinearRegression\n",
    "model= LinearRegression()\n",
    "type(model)\n",
    "model.fit(X=vars_indep, y=var_dep)\n",
    "model.__dict__"
   ]
  },
  {
   "cell_type": "code",
   "execution_count": null,
   "metadata": {},
   "outputs": [],
   "source": [
    "model.score(vars_indep,var_dep)"
   ]
  },
  {
   "cell_type": "code",
   "execution_count": null,
   "metadata": {},
   "outputs": [],
   "source": [
    "y_pred=model.predict(X= Hotel[['host_acceptance_rate']])\n",
    "y_pred"
   ]
  },
  {
   "cell_type": "code",
   "execution_count": null,
   "metadata": {},
   "outputs": [],
   "source": [
    "Hotel.insert(9,'Predicciones', y_pred)"
   ]
  },
  {
   "cell_type": "code",
   "execution_count": null,
   "metadata": {},
   "outputs": [],
   "source": [
    "sns.scatterplot(x='host_acceptance_rate', y='price', color='blue', data=Hotel)\n",
    "sns.scatterplot(x='host_acceptance_rate', y='Predicciones', color='red', data=Hotel)"
   ]
  },
  {
   "cell_type": "code",
   "execution_count": null,
   "metadata": {},
   "outputs": [],
   "source": [
    "coef_deter=model.score(X=vars_indep, y=var_dep)\n",
    "coef_deter"
   ]
  },
  {
   "cell_type": "code",
   "execution_count": null,
   "metadata": {},
   "outputs": [],
   "source": [
    "coef_correl=np.sqrt(coef_deter)\n",
    "coef_correl"
   ]
  },
  {
   "cell_type": "code",
   "execution_count": null,
   "metadata": {},
   "outputs": [],
   "source": [
    "Hotel = Hotel.drop(Hotel.loc[:, 'last_scraped':'instant_bookable'].columns, axis=1)"
   ]
  },
  {
   "cell_type": "code",
   "execution_count": null,
   "metadata": {},
   "outputs": [],
   "source": [
    "sns.pairplot(Hotel)"
   ]
  },
  {
   "cell_type": "code",
   "execution_count": null,
   "metadata": {},
   "outputs": [],
   "source": [
    "Corr_Factors=Hotel.corr()\n",
    "Corr_Factors"
   ]
  },
  {
   "cell_type": "code",
   "execution_count": null,
   "metadata": {},
   "outputs": [],
   "source": [
    "Corr_Factors1=abs(Corr_Factors)\n",
    "Corr_Factors1"
   ]
  },
  {
   "cell_type": "code",
   "execution_count": null,
   "metadata": {},
   "outputs": [],
   "source": [
    "Heat_Map=sns.heatmap(Corr_Factors1, cmap='Reds')\n",
    "Heat_Map"
   ]
  },
  {
   "cell_type": "markdown",
   "metadata": {},
   "source": [
    "**Price vs Host_is_superhost**"
   ]
  },
  {
   "cell_type": "code",
   "execution_count": null,
   "metadata": {},
   "outputs": [],
   "source": [
    "Hotel1=pd.read_csv('México_Hotel.csv')\n",
    "Hotel1 = Hotel1.drop(['Unnamed: 0'], axis=1)"
   ]
  },
  {
   "cell_type": "code",
   "execution_count": null,
   "metadata": {},
   "outputs": [],
   "source": [
    "Hotel1[\"host_is_superhost\"] = Hotel1[\"host_is_superhost\"].replace({\"t\": 1, \"f\": 0, \"SIN INFORMACION\": 0})"
   ]
  },
  {
   "cell_type": "code",
   "execution_count": null,
   "metadata": {},
   "outputs": [],
   "source": [
    "from turtle import color \n",
    "\n",
    "sns.scatterplot(x='host_is_superhost', y='price', color=\"red\", data=Hotel1)"
   ]
  },
  {
   "cell_type": "code",
   "execution_count": null,
   "metadata": {},
   "outputs": [],
   "source": [
    "vars_indep= Hotel1[['host_is_superhost']]\n",
    "var_dep= Hotel1['price']"
   ]
  },
  {
   "cell_type": "code",
   "execution_count": null,
   "metadata": {},
   "outputs": [],
   "source": [
    "from sklearn.linear_model import LinearRegression\n",
    "model= LinearRegression()\n",
    "type(model)\n",
    "model.fit(X=vars_indep, y=var_dep)\n",
    "model.__dict__"
   ]
  },
  {
   "cell_type": "code",
   "execution_count": null,
   "metadata": {},
   "outputs": [],
   "source": [
    "model.score(vars_indep,var_dep)"
   ]
  },
  {
   "cell_type": "code",
   "execution_count": null,
   "metadata": {},
   "outputs": [],
   "source": [
    "y_pred=model.predict(X=Hotel1[['host_is_superhost']])\n",
    "y_pred"
   ]
  },
  {
   "cell_type": "code",
   "execution_count": null,
   "metadata": {},
   "outputs": [],
   "source": [
    "Hotel1.insert(9,'Predicciones', y_pred)"
   ]
  },
  {
   "cell_type": "code",
   "execution_count": null,
   "metadata": {},
   "outputs": [],
   "source": [
    "sns.scatterplot(x='host_is_superhost', y='price', color='blue', data=Hotel1)\n",
    "sns.scatterplot(x='host_is_superhost', y='Predicciones', color='red', data=Hotel1)"
   ]
  },
  {
   "cell_type": "code",
   "execution_count": null,
   "metadata": {},
   "outputs": [],
   "source": [
    "coef_Deter=model.score(X=vars_indep, y=var_dep)\n",
    "coef_Deter"
   ]
  },
  {
   "cell_type": "code",
   "execution_count": null,
   "metadata": {},
   "outputs": [],
   "source": [
    "coef_Correl=np.sqrt(coef_Deter)\n",
    "coef_Correl"
   ]
  },
  {
   "cell_type": "code",
   "execution_count": null,
   "metadata": {},
   "outputs": [],
   "source": [
    "Hotel1 = Hotel1.drop(Hotel1.loc[:, 'last_scraped':'host_response_time'].columns, axis=1)\n",
    "Hotel1 = Hotel1.drop(Hotel1.loc[:, 'host_verifications':'instant_bookable'].columns, axis=1)"
   ]
  },
  {
   "cell_type": "code",
   "execution_count": null,
   "metadata": {},
   "outputs": [],
   "source": [
    "sns.pairplot(Hotel1)"
   ]
  },
  {
   "cell_type": "code",
   "execution_count": null,
   "metadata": {},
   "outputs": [],
   "source": [
    "Corr_Factors=Hotel1.corr()\n",
    "Corr_Factors"
   ]
  },
  {
   "cell_type": "code",
   "execution_count": null,
   "metadata": {},
   "outputs": [],
   "source": [
    "Corr_Factors1=abs(Corr_Factors)\n",
    "Corr_Factors1"
   ]
  },
  {
   "cell_type": "code",
   "execution_count": null,
   "metadata": {},
   "outputs": [],
   "source": [
    "Heat_Map=sns.heatmap(Corr_Factors1, cmap='Reds')\n",
    "Heat_Map"
   ]
  },
  {
   "cell_type": "markdown",
   "metadata": {},
   "source": [
    "**Accommodates vs Bathrooms**"
   ]
  },
  {
   "cell_type": "code",
   "execution_count": null,
   "metadata": {},
   "outputs": [],
   "source": [
    "Hotel2=pd.read_csv('México_Shared.csv')\n",
    "Hotel2 = Hotel2.drop(['Unnamed: 0'], axis=1)"
   ]
  },
  {
   "cell_type": "code",
   "execution_count": null,
   "metadata": {},
   "outputs": [],
   "source": [
    "from turtle import color \n",
    "\n",
    "sns.scatterplot(x='bathrooms', y='accommodates', color=\"red\", data=Hotel2)"
   ]
  },
  {
   "cell_type": "code",
   "execution_count": null,
   "metadata": {},
   "outputs": [],
   "source": [
    "vars_indep= Hotel2[['bathrooms']]\n",
    "var_dep= Hotel2['accommodates']"
   ]
  },
  {
   "cell_type": "code",
   "execution_count": null,
   "metadata": {},
   "outputs": [],
   "source": [
    "from sklearn.linear_model import LinearRegression\n",
    "model= LinearRegression()\n",
    "type(model)\n",
    "model.fit(X=vars_indep, y=var_dep)\n",
    "model.__dict__"
   ]
  },
  {
   "cell_type": "code",
   "execution_count": null,
   "metadata": {},
   "outputs": [],
   "source": [
    "model.score(vars_indep,var_dep)"
   ]
  },
  {
   "cell_type": "code",
   "execution_count": null,
   "metadata": {},
   "outputs": [],
   "source": [
    "y_pred=model.predict(X=Hotel2[['bathrooms']])\n",
    "y_pred"
   ]
  },
  {
   "cell_type": "code",
   "execution_count": null,
   "metadata": {},
   "outputs": [],
   "source": [
    "Hotel2.insert(5,'Predicciones', y_pred)"
   ]
  },
  {
   "cell_type": "code",
   "execution_count": null,
   "metadata": {},
   "outputs": [],
   "source": [
    "sns.scatterplot(x='bathrooms', y='accommodates', color='blue', data=Hotel2)\n",
    "sns.scatterplot(x='bathrooms', y='Predicciones', color='red', data=Hotel2)"
   ]
  },
  {
   "cell_type": "code",
   "execution_count": null,
   "metadata": {},
   "outputs": [],
   "source": [
    "coef_Deter=model.score(X=vars_indep, y=var_dep)\n",
    "coef_Deter"
   ]
  },
  {
   "cell_type": "code",
   "execution_count": null,
   "metadata": {},
   "outputs": [],
   "source": [
    "coef_Correl=np.sqrt(coef_Deter)\n",
    "coef_Correl"
   ]
  },
  {
   "cell_type": "code",
   "execution_count": null,
   "metadata": {},
   "outputs": [],
   "source": [
    "Hotel2 = Hotel2.drop(Hotel2.loc[:, 'last_scraped':'instant_bookable'].columns, axis=1)"
   ]
  },
  {
   "cell_type": "code",
   "execution_count": null,
   "metadata": {},
   "outputs": [],
   "source": [
    "sns.pairplot(Hotel2)"
   ]
  },
  {
   "cell_type": "code",
   "execution_count": null,
   "metadata": {},
   "outputs": [],
   "source": [
    "Corr_Factors=Hotel2.corr()\n",
    "Corr_Factors"
   ]
  },
  {
   "cell_type": "code",
   "execution_count": null,
   "metadata": {},
   "outputs": [],
   "source": [
    "Corr_Factors1=abs(Corr_Factors)\n",
    "Corr_Factors1"
   ]
  },
  {
   "cell_type": "code",
   "execution_count": null,
   "metadata": {},
   "outputs": [],
   "source": [
    "Heat_Map=sns.heatmap(Corr_Factors1, cmap='Reds')\n",
    "Heat_Map"
   ]
  },
  {
   "cell_type": "markdown",
   "metadata": {},
   "source": [
    "**Price vs review_score_cleanliness**"
   ]
  },
  {
   "cell_type": "code",
   "execution_count": null,
   "metadata": {},
   "outputs": [],
   "source": [
    "Hotel3=pd.read_csv('México_Hotel.csv')\n",
    "Hotel3 = Hotel3.drop(['Unnamed: 0'], axis=1)"
   ]
  },
  {
   "cell_type": "code",
   "execution_count": null,
   "metadata": {},
   "outputs": [],
   "source": [
    "from turtle import color \n",
    "\n",
    "sns.scatterplot(x='review_scores_cleanliness', y='price', color=\"red\", data=Hotel3)"
   ]
  },
  {
   "cell_type": "code",
   "execution_count": null,
   "metadata": {},
   "outputs": [],
   "source": [
    "vars_indep= Hotel3[['review_scores_cleanliness']]\n",
    "var_dep=Hotel3['price']"
   ]
  },
  {
   "cell_type": "code",
   "execution_count": null,
   "metadata": {},
   "outputs": [],
   "source": [
    "from sklearn.linear_model import LinearRegression\n",
    "model= LinearRegression()\n",
    "type(model)\n",
    "model.fit(X=vars_indep, y=var_dep)\n",
    "model.__dict__"
   ]
  },
  {
   "cell_type": "code",
   "execution_count": null,
   "metadata": {},
   "outputs": [],
   "source": [
    "model.score(vars_indep,var_dep)"
   ]
  },
  {
   "cell_type": "code",
   "execution_count": null,
   "metadata": {},
   "outputs": [],
   "source": [
    "y_pred=model.predict(X=Hotel3[['review_scores_cleanliness']])\n",
    "y_pred"
   ]
  },
  {
   "cell_type": "code",
   "execution_count": null,
   "metadata": {},
   "outputs": [],
   "source": [
    "Hotel3.insert(9,'Predicciones', y_pred)"
   ]
  },
  {
   "cell_type": "code",
   "execution_count": null,
   "metadata": {},
   "outputs": [],
   "source": [
    "sns.scatterplot(x='review_scores_cleanliness', y='price', color='blue', data=Hotel3)\n",
    "sns.scatterplot(x='review_scores_cleanliness', y='Predicciones', color='red', data=Hotel3)"
   ]
  },
  {
   "cell_type": "code",
   "execution_count": null,
   "metadata": {},
   "outputs": [],
   "source": [
    "coef_Deter=model.score(X=vars_indep, y=var_dep)\n",
    "coef_Deter"
   ]
  },
  {
   "cell_type": "code",
   "execution_count": null,
   "metadata": {},
   "outputs": [],
   "source": [
    "coef_Correl=np.sqrt(coef_Deter)\n",
    "coef_Correl"
   ]
  },
  {
   "cell_type": "code",
   "execution_count": null,
   "metadata": {},
   "outputs": [],
   "source": [
    "Hotel3 = Hotel3.drop(Hotel3.loc[:, 'last_scraped':'instant_bookable'].columns, axis=1)"
   ]
  },
  {
   "cell_type": "code",
   "execution_count": null,
   "metadata": {},
   "outputs": [],
   "source": [
    "sns.pairplot(Hotel3)"
   ]
  },
  {
   "cell_type": "code",
   "execution_count": null,
   "metadata": {},
   "outputs": [],
   "source": [
    "Corr_Factors=Hotel3.corr()\n",
    "Corr_Factors"
   ]
  },
  {
   "cell_type": "code",
   "execution_count": null,
   "metadata": {},
   "outputs": [],
   "source": [
    "Corr_Factors1=abs(Corr_Factors)\n",
    "Corr_Factors1"
   ]
  },
  {
   "cell_type": "code",
   "execution_count": null,
   "metadata": {},
   "outputs": [],
   "source": [
    "Heat_Map=sns.heatmap(Corr_Factors1, cmap='Reds')\n",
    "Heat_Map"
   ]
  },
  {
   "cell_type": "markdown",
   "metadata": {},
   "source": [
    "**Price vs host_identity_verified**"
   ]
  },
  {
   "cell_type": "code",
   "execution_count": null,
   "metadata": {},
   "outputs": [],
   "source": [
    "Hotel4=pd.read_csv('México_Hotel.csv')\n",
    "Hotel4 = Hotel4.drop(['Unnamed: 0'], axis=1)"
   ]
  },
  {
   "cell_type": "code",
   "execution_count": null,
   "metadata": {},
   "outputs": [],
   "source": [
    "Hotel4[\"host_identity_verified\"] = Hotel4[\"host_identity_verified\"].replace({\"t\": 1, \"f\": 0})"
   ]
  },
  {
   "cell_type": "code",
   "execution_count": null,
   "metadata": {},
   "outputs": [],
   "source": [
    "from turtle import color \n",
    "\n",
    "sns.scatterplot(x='host_identity_verified', y='price', color=\"red\", data=Hotel4)"
   ]
  },
  {
   "cell_type": "code",
   "execution_count": null,
   "metadata": {},
   "outputs": [],
   "source": [
    "vars_indep= Hotel4[['host_identity_verified']]\n",
    "var_dep= Hotel4['price']"
   ]
  },
  {
   "cell_type": "code",
   "execution_count": null,
   "metadata": {},
   "outputs": [],
   "source": [
    "from sklearn.linear_model import LinearRegression\n",
    "model= LinearRegression()\n",
    "type(model)\n",
    "model.fit(X=vars_indep, y=var_dep)\n",
    "model.__dict__"
   ]
  },
  {
   "cell_type": "code",
   "execution_count": null,
   "metadata": {},
   "outputs": [],
   "source": [
    "model.score(vars_indep,var_dep)"
   ]
  },
  {
   "cell_type": "code",
   "execution_count": null,
   "metadata": {},
   "outputs": [],
   "source": [
    "y_pred=model.predict(X=Hotel4[['host_identity_verified']])\n",
    "y_pred"
   ]
  },
  {
   "cell_type": "code",
   "execution_count": null,
   "metadata": {},
   "outputs": [],
   "source": [
    "Hotel4.insert(9,'Predicciones', y_pred)"
   ]
  },
  {
   "cell_type": "code",
   "execution_count": null,
   "metadata": {},
   "outputs": [],
   "source": [
    "sns.scatterplot(x='host_identity_verified', y='price', color='blue', data=Hotel4)\n",
    "sns.scatterplot(x='host_identity_verified', y='Predicciones', color='red', data=Hotel4)"
   ]
  },
  {
   "cell_type": "code",
   "execution_count": null,
   "metadata": {},
   "outputs": [],
   "source": [
    "coef_Deter=model.score(X=vars_indep, y=var_dep)\n",
    "coef_Deter"
   ]
  },
  {
   "cell_type": "code",
   "execution_count": null,
   "metadata": {},
   "outputs": [],
   "source": [
    "coef_Correl=np.sqrt(coef_Deter)\n",
    "coef_Correl"
   ]
  },
  {
   "cell_type": "code",
   "execution_count": null,
   "metadata": {},
   "outputs": [],
   "source": [
    "Hotel4 = Hotel4.drop(Hotel4.loc[:, 'last_scraped':'host_has_profile_pic'].columns, axis=1)\n",
    "Hotel4 = Hotel4.drop(Hotel4.loc[:, 'neighbourhood':'instant_bookable'].columns, axis=1)"
   ]
  },
  {
   "cell_type": "code",
   "execution_count": null,
   "metadata": {},
   "outputs": [],
   "source": [
    "sns.pairplot(Hotel4)"
   ]
  },
  {
   "cell_type": "code",
   "execution_count": null,
   "metadata": {},
   "outputs": [],
   "source": [
    "Corr_Factors=Hotel4.corr()\n",
    "Corr_Factors"
   ]
  },
  {
   "cell_type": "code",
   "execution_count": null,
   "metadata": {},
   "outputs": [],
   "source": [
    "Corr_Factors1=abs(Corr_Factors)\n",
    "Corr_Factors1"
   ]
  },
  {
   "cell_type": "code",
   "execution_count": null,
   "metadata": {},
   "outputs": [],
   "source": [
    "Heat_Map=sns.heatmap(Corr_Factors1, cmap='Reds')\n",
    "Heat_Map"
   ]
  },
  {
   "cell_type": "markdown",
   "metadata": {},
   "source": [
    "**Price vs instant_bookable**"
   ]
  },
  {
   "cell_type": "code",
   "execution_count": null,
   "metadata": {},
   "outputs": [],
   "source": [
    "Hotel5=pd.read_csv('México_Hotel.csv')\n",
    "Hotel5 = Hotel5.drop(['Unnamed: 0'], axis=1)"
   ]
  },
  {
   "cell_type": "code",
   "execution_count": null,
   "metadata": {},
   "outputs": [],
   "source": [
    "Hotel5[\"instant_bookable\"] = Hotel5[\"instant_bookable\"].replace({\"t\": 1, \"f\": 0})"
   ]
  },
  {
   "cell_type": "code",
   "execution_count": null,
   "metadata": {},
   "outputs": [],
   "source": [
    "from turtle import color \n",
    "\n",
    "sns.scatterplot(x='instant_bookable', y='price', color=\"red\", data=Hotel5)"
   ]
  },
  {
   "cell_type": "code",
   "execution_count": null,
   "metadata": {},
   "outputs": [],
   "source": [
    "vars_indep= Hotel5[['instant_bookable']]\n",
    "var_dep=Hotel5['price']"
   ]
  },
  {
   "cell_type": "code",
   "execution_count": null,
   "metadata": {},
   "outputs": [],
   "source": [
    "from sklearn.linear_model import LinearRegression\n",
    "model= LinearRegression()\n",
    "type(model)\n",
    "model.fit(X=vars_indep, y=var_dep)\n",
    "model.__dict__"
   ]
  },
  {
   "cell_type": "code",
   "execution_count": null,
   "metadata": {},
   "outputs": [],
   "source": [
    "model.score(vars_indep,var_dep)"
   ]
  },
  {
   "cell_type": "code",
   "execution_count": null,
   "metadata": {},
   "outputs": [],
   "source": [
    "y_pred=model.predict(X=Hotel5[['instant_bookable']])\n",
    "y_pred"
   ]
  },
  {
   "cell_type": "code",
   "execution_count": null,
   "metadata": {},
   "outputs": [],
   "source": [
    "Hotel5.insert(9,'Predicciones', y_pred)"
   ]
  },
  {
   "cell_type": "code",
   "execution_count": null,
   "metadata": {},
   "outputs": [],
   "source": [
    "sns.scatterplot(x='instant_bookable', y='price', color='blue', data=Hotel5)\n",
    "sns.scatterplot(x='instant_bookable', y='Predicciones', color='red', data=Hotel5)"
   ]
  },
  {
   "cell_type": "code",
   "execution_count": null,
   "metadata": {},
   "outputs": [],
   "source": [
    "coef_Deter=model.score(X=vars_indep, y=var_dep)\n",
    "coef_Deter"
   ]
  },
  {
   "cell_type": "code",
   "execution_count": null,
   "metadata": {},
   "outputs": [],
   "source": [
    "coef_Correl=np.sqrt(coef_Deter)\n",
    "coef_Correl"
   ]
  },
  {
   "cell_type": "code",
   "execution_count": null,
   "metadata": {},
   "outputs": [],
   "source": [
    "Hotel5 = Hotel5.drop(Hotel5.loc[:, 'last_scraped':'license'].columns, axis=1)"
   ]
  },
  {
   "cell_type": "code",
   "execution_count": null,
   "metadata": {},
   "outputs": [],
   "source": [
    "sns.pairplot(Hotel5)"
   ]
  },
  {
   "cell_type": "code",
   "execution_count": null,
   "metadata": {},
   "outputs": [],
   "source": [
    "Corr_Factors=Hotel5.corr()\n",
    "Corr_Factors"
   ]
  },
  {
   "cell_type": "code",
   "execution_count": null,
   "metadata": {},
   "outputs": [],
   "source": [
    "Corr_Factors1=abs(Corr_Factors)\n",
    "Corr_Factors1"
   ]
  },
  {
   "cell_type": "code",
   "execution_count": null,
   "metadata": {},
   "outputs": [],
   "source": [
    "Heat_Map=sns.heatmap(Corr_Factors1, cmap='Reds')\n",
    "Heat_Map"
   ]
  },
  {
   "cell_type": "markdown",
   "metadata": {},
   "source": [
    "**Price vs Property_type**"
   ]
  },
  {
   "cell_type": "code",
   "execution_count": null,
   "metadata": {},
   "outputs": [],
   "source": [
    "Hotel6=pd.read_csv('México_Hotel.csv')\n",
    "Hotel6 =Hotel6.drop(['Unnamed: 0'], axis=1)"
   ]
  },
  {
   "cell_type": "code",
   "execution_count": null,
   "metadata": {},
   "outputs": [],
   "source": [
    "Hotel6[\"property_type\"] = Hotel6[\"property_type\"].replace({\n",
    "    \"Room in serviced apartment\": 1,\n",
    "    \"Room in boutique hotel\": 2,\n",
    "    \"Room in bed and breakfast\": 3,\n",
    "    \"Room in aparthotel\": 4,\n",
    "    \"Room in hotel\": 5,\n",
    "    \"Room in casa particular\": 6,\n",
    "    \"Room in hostel\": 7\n",
    "})"
   ]
  },
  {
   "cell_type": "code",
   "execution_count": null,
   "metadata": {},
   "outputs": [],
   "source": [
    "from turtle import color \n",
    "\n",
    "sns.scatterplot(x='property_type', y='price', color=\"red\", data=Hotel6)"
   ]
  },
  {
   "cell_type": "code",
   "execution_count": null,
   "metadata": {},
   "outputs": [],
   "source": [
    "vars_indep= Hotel6[['property_type']]\n",
    "var_dep=Hotel6['price']"
   ]
  },
  {
   "cell_type": "code",
   "execution_count": null,
   "metadata": {},
   "outputs": [],
   "source": [
    "from sklearn.linear_model import LinearRegression\n",
    "model= LinearRegression()\n",
    "type(model)\n",
    "model.fit(X=vars_indep, y=var_dep)\n",
    "model.__dict__"
   ]
  },
  {
   "cell_type": "code",
   "execution_count": null,
   "metadata": {},
   "outputs": [],
   "source": [
    "model.score(vars_indep,var_dep)"
   ]
  },
  {
   "cell_type": "code",
   "execution_count": null,
   "metadata": {},
   "outputs": [],
   "source": [
    "y_pred=model.predict(X=Hotel6[['property_type']])\n",
    "y_pred"
   ]
  },
  {
   "cell_type": "code",
   "execution_count": null,
   "metadata": {},
   "outputs": [],
   "source": [
    "Hotel6.insert(9,'Predicciones', y_pred)"
   ]
  },
  {
   "cell_type": "code",
   "execution_count": null,
   "metadata": {},
   "outputs": [],
   "source": [
    "sns.scatterplot(x='property_type', y='price', color='blue', data=Hotel6)\n",
    "sns.scatterplot(x='property_type', y='Predicciones', color='red', data=Hotel6)"
   ]
  },
  {
   "cell_type": "code",
   "execution_count": null,
   "metadata": {},
   "outputs": [],
   "source": [
    "coef_Deter=model.score(X=vars_indep, y=var_dep)\n",
    "coef_Deter"
   ]
  },
  {
   "cell_type": "code",
   "execution_count": null,
   "metadata": {},
   "outputs": [],
   "source": [
    "coef_Correl=np.sqrt(coef_Deter)\n",
    "coef_Correl"
   ]
  },
  {
   "cell_type": "code",
   "execution_count": null,
   "metadata": {},
   "outputs": [],
   "source": [
    "Hotel6 = Hotel6.drop(Hotel6.loc[:, 'last_scraped':'neighbourhood'].columns, axis=1)\n",
    "Hotel6 = Hotel6.drop(Hotel6.loc[:, 'room_type':'instant_bookable'].columns, axis=1)"
   ]
  },
  {
   "cell_type": "code",
   "execution_count": null,
   "metadata": {},
   "outputs": [],
   "source": [
    "sns.pairplot(Hotel6)"
   ]
  },
  {
   "cell_type": "code",
   "execution_count": null,
   "metadata": {},
   "outputs": [],
   "source": [
    "Corr_Factors=Hotel6.corr()\n",
    "Corr_Factors"
   ]
  },
  {
   "cell_type": "code",
   "execution_count": null,
   "metadata": {},
   "outputs": [],
   "source": [
    "Corr_Factors1=abs(Corr_Factors)\n",
    "Corr_Factors1"
   ]
  },
  {
   "cell_type": "code",
   "execution_count": null,
   "metadata": {},
   "outputs": [],
   "source": [
    "Heat_Map=sns.heatmap(Corr_Factors1, cmap='Reds')\n",
    "Heat_Map"
   ]
  }
 ],
 "metadata": {
  "kernelspec": {
   "display_name": "Python 3",
   "language": "python",
   "name": "python3"
  },
  "language_info": {
   "codemirror_mode": {
    "name": "ipython",
    "version": 3
   },
   "file_extension": ".py",
   "mimetype": "text/x-python",
   "name": "python",
   "nbconvert_exporter": "python",
   "pygments_lexer": "ipython3",
   "version": "3.11.2"
  }
 },
 "nbformat": 4,
 "nbformat_minor": 2
}
